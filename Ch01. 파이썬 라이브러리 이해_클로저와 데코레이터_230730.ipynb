{
 "cells": [
  {
   "cell_type": "markdown",
   "id": "49826c22",
   "metadata": {},
   "source": [
    "# 1-2 클로저와 데코레이터"
   ]
  },
  {
   "cell_type": "markdown",
   "id": "eb76f684",
   "metadata": {},
   "source": [
    "# 클로저\n",
    "* 함수 안의 함수를 결과로 반환할 때, 그 내부 함수를 클로저(closure) 라고 한다. \n",
    "* 사용되는 곳 \n",
    "    - 콜백 함수에 사용\n",
    "    - 함수의 순처적 실행\n",
    "    - 데코레이터 함수"
   ]
  },
  {
   "cell_type": "code",
   "execution_count": 1,
   "id": "88c3a452",
   "metadata": {},
   "outputs": [],
   "source": [
    "def mul3(n):\n",
    "    return n*3"
   ]
  },
  {
   "cell_type": "code",
   "execution_count": 3,
   "id": "189ce9e4",
   "metadata": {},
   "outputs": [
    {
     "data": {
      "text/plain": [
       "15"
      ]
     },
     "execution_count": 3,
     "metadata": {},
     "output_type": "execute_result"
    }
   ],
   "source": [
    "mul3(5)"
   ]
  },
  {
   "cell_type": "code",
   "execution_count": 4,
   "id": "b7dbaec6",
   "metadata": {},
   "outputs": [],
   "source": [
    "def mul5(n):\n",
    "    return n*8"
   ]
  },
  {
   "cell_type": "code",
   "execution_count": 5,
   "id": "55706075",
   "metadata": {},
   "outputs": [
    {
     "data": {
      "text/plain": [
       "72"
      ]
     },
     "execution_count": 5,
     "metadata": {},
     "output_type": "execute_result"
    }
   ],
   "source": [
    "mul5(9)"
   ]
  },
  {
   "cell_type": "markdown",
   "id": "d2d7b28f",
   "metadata": {},
   "source": [
    "## 방법1. 클래스 사용"
   ]
  },
  {
   "cell_type": "code",
   "execution_count": 6,
   "id": "91ceb12a",
   "metadata": {},
   "outputs": [],
   "source": [
    "class Mul:\n",
    "    def __init__ (self,m):\n",
    "        self.m=m\n",
    "    def mul(self,n):\n",
    "        return self.m*n"
   ]
  },
  {
   "cell_type": "code",
   "execution_count": 7,
   "id": "ec58cb57",
   "metadata": {},
   "outputs": [
    {
     "name": "stdout",
     "output_type": "stream",
     "text": [
      "30\n",
      "50\n"
     ]
    }
   ],
   "source": [
    "if __name__== \"__main__\":\n",
    "    mul3=Mul(3)\n",
    "    mul5=Mul(5)\n",
    "    \n",
    "    print(mul3.mul(10))\n",
    "    print(mul5.mul(10))"
   ]
  },
  {
   "cell_type": "code",
   "execution_count": 22,
   "id": "c21ebab6",
   "metadata": {},
   "outputs": [],
   "source": [
    "class Mul:\n",
    "    def __init__(self,m):\n",
    "        self.m = m\n",
    "    def __call__(self,n):\n",
    "        return self.m * n"
   ]
  },
  {
   "cell_type": "code",
   "execution_count": 24,
   "id": "a05a37c7",
   "metadata": {},
   "outputs": [
    {
     "name": "stdout",
     "output_type": "stream",
     "text": [
      "60\n",
      "50\n"
     ]
    }
   ],
   "source": [
    "if __name__ == \"__main__\" :\n",
    "    mul3=Mul(3)\n",
    "    mul5=Mul(5)\n",
    "    \n",
    "    print(mul3(20))\n",
    "    print(mul5(10))"
   ]
  },
  {
   "cell_type": "markdown",
   "id": "aa470331",
   "metadata": {},
   "source": [
    "## 방법2. 클로저 사용 "
   ]
  },
  {
   "cell_type": "code",
   "execution_count": 25,
   "id": "3315bbd3",
   "metadata": {},
   "outputs": [],
   "source": [
    "def mul(m):\n",
    "    def wrapper(n):\n",
    "        return m*n\n",
    "    return wrapper"
   ]
  },
  {
   "cell_type": "code",
   "execution_count": null,
   "id": "44f7b008",
   "metadata": {},
   "outputs": [],
   "source": [
    "if __name__ == \"__main__\":\n",
    "    "
   ]
  }
 ],
 "metadata": {
  "kernelspec": {
   "display_name": "fastcampus",
   "language": "python",
   "name": "fastcampus"
  },
  "language_info": {
   "codemirror_mode": {
    "name": "ipython",
    "version": 3
   },
   "file_extension": ".py",
   "mimetype": "text/x-python",
   "name": "python",
   "nbconvert_exporter": "python",
   "pygments_lexer": "ipython3",
   "version": "3.11.0"
  }
 },
 "nbformat": 4,
 "nbformat_minor": 5
}
