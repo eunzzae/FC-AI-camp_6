{
 "cells": [
  {
   "cell_type": "markdown",
   "id": "30eec02c",
   "metadata": {},
   "source": [
    "## 1-4 변수 타입 어노테이션"
   ]
  },
  {
   "cell_type": "markdown",
   "id": "e3a87174",
   "metadata": {},
   "source": [
    "### 타입 어노테이션"
   ]
  },
  {
   "cell_type": "markdown",
   "id": "6e1e78a0",
   "metadata": {},
   "source": [
    "* 변수나 상수를 선언할 때, 그 타입을 명시적으로 선언해 줌으로써 어떤 타입의 값이 저장될 것인지를 직접 알려주는 방법\n",
    "* 프로그램은 수많은 함수, 클래스 등으로 복잡하게 얽혀있는 경우가 많은데, 변수 타입이 맞지 않으면 에러나 버그의 발생 가능성이 높아짐\n",
    "* 사용 시, 코드 가독성과 협업 효율성이 높아짐\n",
    "* 파이썬은 프로그램 실행 도중 변수 타입을 동적으로 바꿀 수 있는 **`동적 프로그래밍 언어(dynamic programming language)`**\n",
    "* Java, C, C++ 등은 컴파일 시 변수 타입이 결정되는 정적 프로그래밍 언어 **`(statically typed language)`**"
   ]
  },
  {
   "cell_type": "markdown",
   "id": "552e6082",
   "metadata": {},
   "source": [
    "## 동적 프로그래밍 언어의 장단점"
   ]
  },
  {
   "cell_type": "markdown",
   "id": "950b9ea3",
   "metadata": {},
   "source": [
    "* 장점 \n",
    "    * 타입에 자유로워 유연한 코딩이 가능, 쉽고 빠르게 프로그램을 만들 수 있음\n",
    "    * 타입 체크를 위한 코드가 없으므로 비교적 깔끔한 소스코드\n",
    "* 단점\n",
    "    * 프로젝트 규모가 커질수록 잘못된 타입 사용으로 말미암은 버그가 생길 확률 높아짐\n",
    "    * 타입 어노테이션이 없을 시, 정적 프로그래밍 언어와 티입 버그 발생 시 원인 찾기 어려움\n",
    "    * 실행속도 느림\n",
    "    "
   ]
  },
  {
   "cell_type": "code",
   "execution_count": null,
   "id": "68d7fadd",
   "metadata": {},
   "outputs": [],
   "source": []
  }
 ],
 "metadata": {
  "kernelspec": {
   "display_name": "Python 3 (ipykernel)",
   "language": "python",
   "name": "python3"
  },
  "language_info": {
   "codemirror_mode": {
    "name": "ipython",
    "version": 3
   },
   "file_extension": ".py",
   "mimetype": "text/x-python",
   "name": "python",
   "nbconvert_exporter": "python",
   "pygments_lexer": "ipython3",
   "version": "3.10.9"
  }
 },
 "nbformat": 4,
 "nbformat_minor": 5
}
