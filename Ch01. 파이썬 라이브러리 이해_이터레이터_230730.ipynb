{
 "cells": [
  {
   "cell_type": "markdown",
   "id": "5b8894c7",
   "metadata": {},
   "source": [
    "# 1-3 이터레이터와 제네레이터 "
   ]
  },
  {
   "cell_type": "markdown",
   "id": "f5883762",
   "metadata": {},
   "source": [
    "## 이터레이터"
   ]
  },
  {
   "cell_type": "markdown",
   "id": "2218c9ba",
   "metadata": {},
   "source": [
    "* 집합에서 값을 차례대로 꺼낼수 있는 `객체`를 말한다.\n",
    "* for 문을 순회할 수 있는 객체\n",
    "* 사용이유?\n",
    "    * 숫자가 아주 많을 경우 미리 만들어 놓는 것보다 그때 그때 필요할 때 값을 뽑아 사용하고 싶을 경우가 대부분의 상황에서 효율적(메모리 등)\n",
    "* 반복 가능(Iterable) 객체에만 사용 가능\n",
    "    * iter()로 반복 가능 객체 변환\n",
    "    * next()로 다음값 뽑기\n",
    "* 한 번 반복하면 다시 사용될 수 없음 "
   ]
  },
  {
   "cell_type": "code",
   "execution_count": 9,
   "id": "b85eb87c",
   "metadata": {},
   "outputs": [
    {
     "name": "stdout",
     "output_type": "stream",
     "text": [
      "1\n",
      "2\n",
      "3\n"
     ]
    }
   ],
   "source": [
    "for a in [1,2,3]:\n",
    "    print(a)"
   ]
  },
  {
   "cell_type": "code",
   "execution_count": 11,
   "id": "5f3e58a9",
   "metadata": {},
   "outputs": [],
   "source": [
    "a=[1,2,3]\n",
    "iterator=iter(a)"
   ]
  },
  {
   "cell_type": "code",
   "execution_count": 3,
   "id": "7247ea21",
   "metadata": {},
   "outputs": [
    {
     "data": {
      "text/plain": [
       "list_iterator"
      ]
     },
     "execution_count": 3,
     "metadata": {},
     "output_type": "execute_result"
    }
   ],
   "source": [
    "type(iterator)"
   ]
  },
  {
   "cell_type": "code",
   "execution_count": 4,
   "id": "0d8ff332",
   "metadata": {},
   "outputs": [
    {
     "data": {
      "text/plain": [
       "1"
      ]
     },
     "execution_count": 4,
     "metadata": {},
     "output_type": "execute_result"
    }
   ],
   "source": [
    "next(iterator)"
   ]
  },
  {
   "cell_type": "code",
   "execution_count": 5,
   "id": "38f4544a",
   "metadata": {},
   "outputs": [
    {
     "data": {
      "text/plain": [
       "2"
      ]
     },
     "execution_count": 5,
     "metadata": {},
     "output_type": "execute_result"
    }
   ],
   "source": [
    "next(iterator)"
   ]
  },
  {
   "cell_type": "code",
   "execution_count": 6,
   "id": "9fe4ebc8",
   "metadata": {},
   "outputs": [
    {
     "data": {
      "text/plain": [
       "3"
      ]
     },
     "execution_count": 6,
     "metadata": {},
     "output_type": "execute_result"
    }
   ],
   "source": [
    "next(iterator)"
   ]
  },
  {
   "cell_type": "code",
   "execution_count": 7,
   "id": "84768dfa",
   "metadata": {},
   "outputs": [
    {
     "ename": "StopIteration",
     "evalue": "",
     "output_type": "error",
     "traceback": [
      "\u001b[1;31m---------------------------------------------------------------------------\u001b[0m",
      "\u001b[1;31mStopIteration\u001b[0m                             Traceback (most recent call last)",
      "Cell \u001b[1;32mIn[7], line 1\u001b[0m\n\u001b[1;32m----> 1\u001b[0m \u001b[38;5;28;43mnext\u001b[39;49m\u001b[43m(\u001b[49m\u001b[43miterator\u001b[49m\u001b[43m)\u001b[49m\n",
      "\u001b[1;31mStopIteration\u001b[0m: "
     ]
    }
   ],
   "source": [
    "next(iterator)"
   ]
  },
  {
   "cell_type": "code",
   "execution_count": 12,
   "id": "78ae200c",
   "metadata": {},
   "outputs": [
    {
     "name": "stdout",
     "output_type": "stream",
     "text": [
      "1\n",
      "2\n",
      "3\n"
     ]
    }
   ],
   "source": [
    "for a in iterator:\n",
    "    print(a)"
   ]
  },
  {
   "cell_type": "markdown",
   "id": "8698af46",
   "metadata": {},
   "source": [
    "## 제네레이터"
   ]
  },
  {
   "cell_type": "markdown",
   "id": "4d1c0add",
   "metadata": {},
   "source": [
    "* 이터레이터를 생성해주는 함수\n",
    "* 사용이유?\n",
    "    * 함수가 하나의 고정된 값을 반환하는 것이 아닌 순차적으로 다른 값을 반환하기 원할 때\n",
    "* yield()    "
   ]
  },
  {
   "cell_type": "code",
   "execution_count": 14,
   "id": "eb1b7a7a",
   "metadata": {},
   "outputs": [],
   "source": [
    "def generator():\n",
    "    yield 'a'\n",
    "    yield 'b'\n",
    "    yield 'c'"
   ]
  },
  {
   "cell_type": "code",
   "execution_count": 15,
   "id": "01ce67b4",
   "metadata": {},
   "outputs": [
    {
     "data": {
      "text/plain": [
       "generator"
      ]
     },
     "execution_count": 15,
     "metadata": {},
     "output_type": "execute_result"
    }
   ],
   "source": [
    "g=generator()\n",
    "type(g)"
   ]
  },
  {
   "cell_type": "code",
   "execution_count": 16,
   "id": "9b9c9cdc",
   "metadata": {},
   "outputs": [
    {
     "data": {
      "text/plain": [
       "'a'"
      ]
     },
     "execution_count": 16,
     "metadata": {},
     "output_type": "execute_result"
    }
   ],
   "source": [
    "next(g)"
   ]
  },
  {
   "cell_type": "code",
   "execution_count": 17,
   "id": "d3aa6d1e",
   "metadata": {},
   "outputs": [
    {
     "data": {
      "text/plain": [
       "'b'"
      ]
     },
     "execution_count": 17,
     "metadata": {},
     "output_type": "execute_result"
    }
   ],
   "source": [
    "next(g)"
   ]
  },
  {
   "cell_type": "code",
   "execution_count": 18,
   "id": "af5dee70",
   "metadata": {},
   "outputs": [
    {
     "data": {
      "text/plain": [
       "'c'"
      ]
     },
     "execution_count": 18,
     "metadata": {},
     "output_type": "execute_result"
    }
   ],
   "source": [
    "next(g)"
   ]
  },
  {
   "cell_type": "code",
   "execution_count": 19,
   "id": "0a1e3e0a",
   "metadata": {},
   "outputs": [
    {
     "ename": "StopIteration",
     "evalue": "",
     "output_type": "error",
     "traceback": [
      "\u001b[1;31m---------------------------------------------------------------------------\u001b[0m",
      "\u001b[1;31mStopIteration\u001b[0m                             Traceback (most recent call last)",
      "Cell \u001b[1;32mIn[19], line 1\u001b[0m\n\u001b[1;32m----> 1\u001b[0m \u001b[38;5;28;43mnext\u001b[39;49m\u001b[43m(\u001b[49m\u001b[43mg\u001b[49m\u001b[43m)\u001b[49m\n",
      "\u001b[1;31mStopIteration\u001b[0m: "
     ]
    }
   ],
   "source": [
    "next(g)"
   ]
  },
  {
   "cell_type": "markdown",
   "id": "cb1e6a79",
   "metadata": {},
   "source": [
    "## 제네레이터 사용 예시"
   ]
  },
  {
   "cell_type": "code",
   "execution_count": 21,
   "id": "4da272f6",
   "metadata": {},
   "outputs": [],
   "source": [
    "def client_count(total_client):\n",
    "    n = 1\n",
    "    for num in range(total_client):\n",
    "        print(f'{n}번째 고객님 입장하십시오!')\n",
    "        n += 1\n",
    "        yield"
   ]
  },
  {
   "cell_type": "code",
   "execution_count": 22,
   "id": "bf60cf55",
   "metadata": {},
   "outputs": [],
   "source": [
    "mygen=client_count(100)"
   ]
  },
  {
   "cell_type": "code",
   "execution_count": 23,
   "id": "bb1bbb2b",
   "metadata": {},
   "outputs": [
    {
     "name": "stdout",
     "output_type": "stream",
     "text": [
      "1번째 고객님 입장하십시오!\n"
     ]
    }
   ],
   "source": [
    "next(mygen)"
   ]
  },
  {
   "cell_type": "code",
   "execution_count": 24,
   "id": "76933a38",
   "metadata": {},
   "outputs": [
    {
     "name": "stdout",
     "output_type": "stream",
     "text": [
      "2번째 고객님 입장하십시오!\n"
     ]
    }
   ],
   "source": [
    "next(mygen)"
   ]
  },
  {
   "cell_type": "code",
   "execution_count": 25,
   "id": "c65612bd",
   "metadata": {},
   "outputs": [
    {
     "name": "stdout",
     "output_type": "stream",
     "text": [
      "3번째 고객님 입장하십시오!\n"
     ]
    }
   ],
   "source": [
    "next(mygen)"
   ]
  },
  {
   "cell_type": "code",
   "execution_count": 26,
   "id": "a1ca06d3",
   "metadata": {},
   "outputs": [
    {
     "name": "stdout",
     "output_type": "stream",
     "text": [
      "4번째 고객님 입장하십시오!\n"
     ]
    }
   ],
   "source": [
    "next(mygen)"
   ]
  },
  {
   "cell_type": "code",
   "execution_count": 27,
   "id": "26e4716f",
   "metadata": {},
   "outputs": [
    {
     "name": "stdout",
     "output_type": "stream",
     "text": [
      "5번째 고객님 입장하십시오!\n"
     ]
    }
   ],
   "source": [
    "next(mygen)"
   ]
  },
  {
   "cell_type": "code",
   "execution_count": null,
   "id": "1c37c58d",
   "metadata": {},
   "outputs": [],
   "source": []
  }
 ],
 "metadata": {
  "kernelspec": {
   "display_name": "Python 3 (ipykernel)",
   "language": "python",
   "name": "python3"
  },
  "language_info": {
   "codemirror_mode": {
    "name": "ipython",
    "version": 3
   },
   "file_extension": ".py",
   "mimetype": "text/x-python",
   "name": "python",
   "nbconvert_exporter": "python",
   "pygments_lexer": "ipython3",
   "version": "3.10.9"
  }
 },
 "nbformat": 4,
 "nbformat_minor": 5
}
