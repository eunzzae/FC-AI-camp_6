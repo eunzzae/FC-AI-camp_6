{
 "cells": [
  {
   "cell_type": "markdown",
   "id": "644c20bd",
   "metadata": {},
   "source": [
    "# 독립표본 t test와 대응표본 t test"
   ]
  },
  {
   "cell_type": "markdown",
   "id": "e14ef6a8",
   "metadata": {},
   "source": [
    "* 독립표본 t test  \n",
    "    * 서로 독립인 두 집단 비교  \n",
    "    * 예시 : 수도권과 지방의 집 값\n",
    "        \n",
    "* 대응표본 t test  \n",
    "    * 동일 그룹에 어떤 처리 후 전후 비교  \n",
    "    * 예시 : 대출규제 시작 전과 후의 집 값\n"
   ]
  },
  {
   "cell_type": "markdown",
   "id": "cefe98da",
   "metadata": {},
   "source": [
    "# 순서"
   ]
  },
  {
   "cell_type": "markdown",
   "id": "e2d8f99e",
   "metadata": {},
   "source": [
    "* if 표본의 크기가 10~30이면, \n",
    "    * 정규성 검정\n",
    "        * 정규성이라면, **등분산 검정**\n",
    "        * 정규성이 아니라면, **순위합 검정**  \n",
    "        \n",
    "        \n",
    "* if 표본의 크기가 30 이상이면,\n",
    "    * 등분산 검정\n",
    "        * 등분산이라면, **등분산 가정 독립표본 t test**\n",
    "        * 아니라면, **이분산 가정 독립표본 t test**"
   ]
  },
  {
   "cell_type": "code",
   "execution_count": 1,
   "id": "c3d24a81",
   "metadata": {},
   "outputs": [],
   "source": [
    "import numpy as np\n",
    "import pandas as pd\n",
    "import matplotlib.pyplot as plt\n",
    "import seaborn as sns\n",
    "import scipy.stats as stats\n"
   ]
  },
  {
   "cell_type": "code",
   "execution_count": 19,
   "id": "35cba8b5",
   "metadata": {},
   "outputs": [],
   "source": [
    "house_a=np.random.normal(6,5,40)\n",
    "house_b=np.random.normal(2,5,40)"
   ]
  },
  {
   "cell_type": "code",
   "execution_count": 20,
   "id": "63cd6430",
   "metadata": {},
   "outputs": [
    {
     "data": {
      "text/plain": [
       "array([ 0.02643686, -0.30569795, -1.72049346,  6.00093494,  8.2748809 ,\n",
       "        9.07445745,  1.88054572,  8.61287314,  7.96932826, -5.43268581,\n",
       "        0.83338588, 12.45379493,  0.74909633, -2.79221873,  1.47842757,\n",
       "        3.39086289,  4.0055875 ,  9.06662048,  9.55538078,  1.47743884,\n",
       "       -3.13814146,  9.37726994, -0.05027451, 15.42533718, 16.63840487,\n",
       "        6.98281881,  4.35503248, 17.06392903,  3.77024717,  8.6163465 ,\n",
       "        5.27712768,  6.17268379, -0.24195054,  6.33854279,  9.25694816,\n",
       "        4.66695226, 12.92218912,  2.99997643,  4.45369729,  3.6587742 ])"
      ]
     },
     "execution_count": 20,
     "metadata": {},
     "output_type": "execute_result"
    }
   ],
   "source": [
    "#수도권\n",
    "house_a"
   ]
  },
  {
   "cell_type": "code",
   "execution_count": 21,
   "id": "be384e8b",
   "metadata": {},
   "outputs": [
    {
     "data": {
      "text/plain": [
       "array([-3.3726809 , 12.98417085, -0.55272459,  4.84849227,  7.10185395,\n",
       "        5.82290027,  5.94264618, -3.73977277,  4.7884038 ,  1.60332836,\n",
       "        3.03184941, 11.1710395 , -8.21173483,  7.61024269,  7.65609412,\n",
       "       -1.54268017, -0.96719555,  0.40398534, -1.28270512, -0.87448689,\n",
       "        2.0991006 , -0.15002206, -2.99964702, -4.44886492,  2.29873241,\n",
       "        5.06867921, -1.50157574, -5.90270021,  1.30017239,  2.30873757,\n",
       "        8.09684132, -3.36622663,  0.69681097,  0.35474922,  1.51136566,\n",
       "        4.51238845, 10.24247696,  2.90603743,  0.60389244,  0.58806711])"
      ]
     },
     "execution_count": 21,
     "metadata": {},
     "output_type": "execute_result"
    }
   ],
   "source": [
    "#지방\n",
    "house_b"
   ]
  },
  {
   "cell_type": "code",
   "execution_count": 22,
   "id": "d3869491",
   "metadata": {},
   "outputs": [],
   "source": [
    "tmp1=pd.concat([pd.DataFrame(['A']*40),pd.DataFrame(house_a.tolist())],axis=1)\n",
    "tmp2=pd.concat([pd.DataFrame(['B']*40),pd.DataFrame(house_b.tolist())],axis=1)\n",
    "\n",
    "df=pd.concat([tmp1,tmp2],axis=0)"
   ]
  },
  {
   "cell_type": "code",
   "execution_count": 23,
   "id": "0969a5c8",
   "metadata": {},
   "outputs": [
    {
     "data": {
      "text/html": [
       "<div>\n",
       "<style scoped>\n",
       "    .dataframe tbody tr th:only-of-type {\n",
       "        vertical-align: middle;\n",
       "    }\n",
       "\n",
       "    .dataframe tbody tr th {\n",
       "        vertical-align: top;\n",
       "    }\n",
       "\n",
       "    .dataframe thead th {\n",
       "        text-align: right;\n",
       "    }\n",
       "</style>\n",
       "<table border=\"1\" class=\"dataframe\">\n",
       "  <thead>\n",
       "    <tr style=\"text-align: right;\">\n",
       "      <th></th>\n",
       "      <th>0</th>\n",
       "      <th>0</th>\n",
       "    </tr>\n",
       "  </thead>\n",
       "  <tbody>\n",
       "    <tr>\n",
       "      <th>0</th>\n",
       "      <td>A</td>\n",
       "      <td>0.026437</td>\n",
       "    </tr>\n",
       "    <tr>\n",
       "      <th>1</th>\n",
       "      <td>A</td>\n",
       "      <td>-0.305698</td>\n",
       "    </tr>\n",
       "    <tr>\n",
       "      <th>2</th>\n",
       "      <td>A</td>\n",
       "      <td>-1.720493</td>\n",
       "    </tr>\n",
       "  </tbody>\n",
       "</table>\n",
       "</div>"
      ],
      "text/plain": [
       "   0         0\n",
       "0  A  0.026437\n",
       "1  A -0.305698\n",
       "2  A -1.720493"
      ]
     },
     "execution_count": 23,
     "metadata": {},
     "output_type": "execute_result"
    }
   ],
   "source": [
    "df.head(3)"
   ]
  },
  {
   "cell_type": "code",
   "execution_count": 24,
   "id": "84fa51a9",
   "metadata": {},
   "outputs": [
    {
     "data": {
      "text/html": [
       "<div>\n",
       "<style scoped>\n",
       "    .dataframe tbody tr th:only-of-type {\n",
       "        vertical-align: middle;\n",
       "    }\n",
       "\n",
       "    .dataframe tbody tr th {\n",
       "        vertical-align: top;\n",
       "    }\n",
       "\n",
       "    .dataframe thead th {\n",
       "        text-align: right;\n",
       "    }\n",
       "</style>\n",
       "<table border=\"1\" class=\"dataframe\">\n",
       "  <thead>\n",
       "    <tr style=\"text-align: right;\">\n",
       "      <th></th>\n",
       "      <th>0</th>\n",
       "      <th>0</th>\n",
       "    </tr>\n",
       "  </thead>\n",
       "  <tbody>\n",
       "    <tr>\n",
       "      <th>37</th>\n",
       "      <td>B</td>\n",
       "      <td>2.906037</td>\n",
       "    </tr>\n",
       "    <tr>\n",
       "      <th>38</th>\n",
       "      <td>B</td>\n",
       "      <td>0.603892</td>\n",
       "    </tr>\n",
       "    <tr>\n",
       "      <th>39</th>\n",
       "      <td>B</td>\n",
       "      <td>0.588067</td>\n",
       "    </tr>\n",
       "  </tbody>\n",
       "</table>\n",
       "</div>"
      ],
      "text/plain": [
       "    0         0\n",
       "37  B  2.906037\n",
       "38  B  0.603892\n",
       "39  B  0.588067"
      ]
     },
     "execution_count": 24,
     "metadata": {},
     "output_type": "execute_result"
    }
   ],
   "source": [
    "df.tail(3)"
   ]
  },
  {
   "cell_type": "code",
   "execution_count": 25,
   "id": "53ab07d7",
   "metadata": {},
   "outputs": [
    {
     "data": {
      "text/html": [
       "<div>\n",
       "<style scoped>\n",
       "    .dataframe tbody tr th:only-of-type {\n",
       "        vertical-align: middle;\n",
       "    }\n",
       "\n",
       "    .dataframe tbody tr th {\n",
       "        vertical-align: top;\n",
       "    }\n",
       "\n",
       "    .dataframe thead th {\n",
       "        text-align: right;\n",
       "    }\n",
       "</style>\n",
       "<table border=\"1\" class=\"dataframe\">\n",
       "  <thead>\n",
       "    <tr style=\"text-align: right;\">\n",
       "      <th></th>\n",
       "      <th>grp</th>\n",
       "      <th>value</th>\n",
       "    </tr>\n",
       "  </thead>\n",
       "  <tbody>\n",
       "    <tr>\n",
       "      <th>0</th>\n",
       "      <td>A</td>\n",
       "      <td>0.026437</td>\n",
       "    </tr>\n",
       "    <tr>\n",
       "      <th>1</th>\n",
       "      <td>A</td>\n",
       "      <td>-0.305698</td>\n",
       "    </tr>\n",
       "    <tr>\n",
       "      <th>2</th>\n",
       "      <td>A</td>\n",
       "      <td>-1.720493</td>\n",
       "    </tr>\n",
       "    <tr>\n",
       "      <th>3</th>\n",
       "      <td>A</td>\n",
       "      <td>6.000935</td>\n",
       "    </tr>\n",
       "    <tr>\n",
       "      <th>4</th>\n",
       "      <td>A</td>\n",
       "      <td>8.274881</td>\n",
       "    </tr>\n",
       "  </tbody>\n",
       "</table>\n",
       "</div>"
      ],
      "text/plain": [
       "  grp     value\n",
       "0   A  0.026437\n",
       "1   A -0.305698\n",
       "2   A -1.720493\n",
       "3   A  6.000935\n",
       "4   A  8.274881"
      ]
     },
     "execution_count": 25,
     "metadata": {},
     "output_type": "execute_result"
    }
   ],
   "source": [
    "df.columns=['grp','value']\n",
    "df.head()"
   ]
  },
  {
   "cell_type": "code",
   "execution_count": 26,
   "id": "88fab518",
   "metadata": {},
   "outputs": [
    {
     "data": {
      "image/png": "[encoded data removed]",
      "text/plain": [
       "<Figure size 640x480 with 1 Axes>"
      ]
     },
     "metadata": {},
     "output_type": "display_data"
    }
   ],
   "source": [
    "sns.boxplot(x='grp',y='value',data=df)\n",
    "plt.show()"
   ]
  },
  {
   "cell_type": "markdown",
   "id": "a73b8dd6",
   "metadata": {},
   "source": [
    "# 등분산성 검정"
   ]
  },
  {
   "cell_type": "markdown",
   "id": "f08e1227",
   "metadata": {},
   "source": [
    "* 귀무가설   \n",
    "    * 수도권(grp A), 지방(grp B) 집값의 분산이 같다.\n",
    "* 대립가설  \n",
    "    * 수도권(grp A), 지방(grp B) 집값의 분산이 다르다. "
   ]
  },
  {
   "cell_type": "code",
   "execution_count": 27,
   "id": "22b473ca",
   "metadata": {},
   "outputs": [
    {
     "data": {
      "text/plain": [
       "LeveneResult(statistic=0.7373595997112204, pvalue=0.3931391968083626)"
      ]
     },
     "execution_count": 27,
     "metadata": {},
     "output_type": "execute_result"
    }
   ],
   "source": [
    "stats.levene(np.array(df[df['grp']=='A']['value']), np.array(df[df['grp']=='B']['value']))"
   ]
  },
  {
   "cell_type": "code",
   "execution_count": 28,
   "id": "0f86c117",
   "metadata": {},
   "outputs": [
    {
     "data": {
      "text/plain": [
       "Ttest_indResult(statistic=2.9389723012375346, pvalue=0.00432984539789562)"
      ]
     },
     "execution_count": 28,
     "metadata": {},
     "output_type": "execute_result"
    }
   ],
   "source": [
    "stats.ttest_ind(np.array(df[df['grp']=='A']['value'])\n",
    "                ,np.array(df[df['grp']=='B']['value'])\n",
    "                , equal_var=True) # 등분산성이 같다.(일치)"
   ]
  },
  {
   "cell_type": "code",
   "execution_count": null,
   "id": "fdf1c6b4",
   "metadata": {},
   "outputs": [],
   "source": []
  }
 ],
 "metadata": {
  "kernelspec": {
   "display_name": "Python 3 (ipykernel)",
   "language": "python",
   "name": "python3"
  },
  "language_info": {
   "codemirror_mode": {
    "name": "ipython",
    "version": 3
   },
   "file_extension": ".py",
   "mimetype": "text/x-python",
   "name": "python",
   "nbconvert_exporter": "python",
   "pygments_lexer": "ipython3",
   "version": "3.10.9"
  }
 },
 "nbformat": 4,
 "nbformat_minor": 5
}
