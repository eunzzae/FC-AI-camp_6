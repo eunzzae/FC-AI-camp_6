{
 "cells": [
  {
   "cell_type": "markdown",
   "id": "44cd1d71",
   "metadata": {},
   "source": [
    "# 1-2 클로저와 데코레이터"
   ]
  },
  {
   "cell_type": "markdown",
   "id": "9d656adf",
   "metadata": {},
   "source": [
    "# 클로저\n",
    "* 함수 안의 함수를 결과로 반환할 때, 그 내부 함수를 클로저(closure) 라고 한다. \n",
    "* 사용되는 곳 \n",
    "    - 콜백 함수에 사용\n",
    "    - 함수의 순처적 실행\n",
    "    - 데코레이터 함수"
   ]
  },
  {
   "cell_type": "code",
   "execution_count": 1,
   "id": "12bee20b",
   "metadata": {},
   "outputs": [],
   "source": [
    "def mul3(n):\n",
    "    return n*3"
   ]
  },
  {
   "cell_type": "code",
   "execution_count": 3,
   "id": "0bed0915",
   "metadata": {},
   "outputs": [
    {
     "data": {
      "text/plain": [
       "15"
      ]
     },
     "execution_count": 3,
     "metadata": {},
     "output_type": "execute_result"
    }
   ],
   "source": [
    "mul3(5)"
   ]
  },
  {
   "cell_type": "code",
   "execution_count": 4,
   "id": "ce8acad7",
   "metadata": {},
   "outputs": [],
   "source": [
    "def mul5(n):\n",
    "    return n*8"
   ]
  },
  {
   "cell_type": "code",
   "execution_count": 5,
   "id": "5e3b9f81",
   "metadata": {},
   "outputs": [
    {
     "data": {
      "text/plain": [
       "72"
      ]
     },
     "execution_count": 5,
     "metadata": {},
     "output_type": "execute_result"
    }
   ],
   "source": [
    "mul5(9)"
   ]
  },
  {
   "cell_type": "markdown",
   "id": "05a46617",
   "metadata": {},
   "source": [
    "## 방법1. 클래스 사용"
   ]
  },
  {
   "cell_type": "code",
   "execution_count": 6,
   "id": "47d5a33e",
   "metadata": {},
   "outputs": [],
   "source": [
    "class Mul:\n",
    "    def __init__ (self,m):\n",
    "        self.m=m\n",
    "    def mul(self,n):\n",
    "        return self.m*n"
   ]
  },
  {
   "cell_type": "code",
   "execution_count": 7,
   "id": "9f4b8220",
   "metadata": {},
   "outputs": [
    {
     "name": "stdout",
     "output_type": "stream",
     "text": [
      "30\n",
      "50\n"
     ]
    }
   ],
   "source": [
    "if __name__== \"__main__\":\n",
    "    mul3=Mul(3)\n",
    "    mul5=Mul(5)\n",
    "    \n",
    "    print(mul3.mul(10))\n",
    "    print(mul5.mul(10))"
   ]
  },
  {
   "cell_type": "code",
   "execution_count": 22,
   "id": "ffbf5459",
   "metadata": {},
   "outputs": [],
   "source": [
    "class Mul:\n",
    "    def __init__(self,m):\n",
    "        self.m = m\n",
    "    def __call__(self,n):\n",
    "        return self.m * n"
   ]
  },
  {
   "cell_type": "code",
   "execution_count": 24,
   "id": "e3e9eb0d",
   "metadata": {},
   "outputs": [
    {
     "name": "stdout",
     "output_type": "stream",
     "text": [
      "60\n",
      "50\n"
     ]
    }
   ],
   "source": [
    "if __name__ == \"__main__\" :\n",
    "    mul3=Mul(3)\n",
    "    mul5=Mul(5)\n",
    "    \n",
    "    print(mul3(20))\n",
    "    print(mul5(10))"
   ]
  },
  {
   "cell_type": "markdown",
   "id": "925ebbf2",
   "metadata": {},
   "source": [
    "## 방법2. 클로저 사용 "
   ]
  },
  {
   "cell_type": "code",
   "execution_count": 25,
   "id": "1ac0db15",
   "metadata": {},
   "outputs": [],
   "source": [
    "def mul(m):         # 외부함수\n",
    "    def wrapper(n): # 내부함수(클로저)\n",
    "        return m*n\n",
    "    return wrapper"
   ]
  },
  {
   "cell_type": "code",
   "execution_count": 26,
   "id": "cb624a4a",
   "metadata": {},
   "outputs": [
    {
     "name": "stdout",
     "output_type": "stream",
     "text": [
      "30\n",
      "50\n"
     ]
    }
   ],
   "source": [
    "if __name__ == \"__main__\":\n",
    "    mul3=mul(3)\n",
    "    mul5=mul(5)\n",
    "    \n",
    "    print(mul3(10))\n",
    "    print(mul5(10))"
   ]
  },
  {
   "cell_type": "markdown",
   "id": "458b395b",
   "metadata": {},
   "source": [
    "## 데코레이터(Decorator)"
   ]
  },
  {
   "cell_type": "markdown",
   "id": "b5d94933",
   "metadata": {},
   "source": [
    "* decorate는 함수를 꾸며주는 함수\n",
    "* 함수를 인수로 받는 클로저\n",
    "* @를 이용한 어노테이션으로 사용\n",
    "* 사용되는 곳 \n",
    "    * 반복되는 작업을 여러 함수에 적용할 경우\n",
    "    * 기존 함수를 수정하지 않고 추가 기능을 구현하고 싶을 경우"
   ]
  },
  {
   "cell_type": "code",
   "execution_count": 47,
   "id": "e9c4eb7f",
   "metadata": {},
   "outputs": [],
   "source": [
    "import time\n",
    "\n",
    "def func1(a,b):\n",
    "    start=time.time()\n",
    "    print(\"함수가 실행됩니다.\")\n",
    "    \n",
    "    val = a+b\n",
    "    \n",
    "    end=time.time()\n",
    "    print(\"함수 수행시간: %f 초\" %(end-start))\n",
    "    \n",
    "    return val"
   ]
  },
  {
   "cell_type": "code",
   "execution_count": 48,
   "id": "5bcd8347",
   "metadata": {},
   "outputs": [
    {
     "name": "stdout",
     "output_type": "stream",
     "text": [
      "함수가 실행됩니다.\n",
      "함수 수행시간: 0.000000 초\n",
      "3\n"
     ]
    }
   ],
   "source": [
    "if __name__==\"__main__\":\n",
    "    result=func1(1,2)\n",
    "    print(result)"
   ]
  },
  {
   "cell_type": "code",
   "execution_count": 49,
   "id": "1d4e8e3f",
   "metadata": {},
   "outputs": [],
   "source": [
    "def func2(a,b):\n",
    "    start=time.time()\n",
    "    print(\"함수가 실행됩니다.\")\n",
    "    \n",
    "    val=a*b\n",
    "    \n",
    "    end=time.time()\n",
    "    print(f\"함수 수행시간: {end-start} 초\")\n",
    "    \n",
    "    return val"
   ]
  },
  {
   "cell_type": "code",
   "execution_count": 50,
   "id": "b911b371",
   "metadata": {},
   "outputs": [
    {
     "name": "stdout",
     "output_type": "stream",
     "text": [
      "함수가 실행됩니다.\n",
      "함수 수행시간: 0.001001119613647461 초\n",
      "2\n"
     ]
    }
   ],
   "source": [
    "if __name__==\"__main__\":\n",
    "    result=func2(1,2)\n",
    "    print(result)"
   ]
  },
  {
   "cell_type": "markdown",
   "id": "556928e8",
   "metadata": {},
   "source": [
    "### 데코레이터 만들기"
   ]
  },
  {
   "cell_type": "code",
   "execution_count": 51,
   "id": "dd4320fd",
   "metadata": {},
   "outputs": [],
   "source": [
    "def func1(a,b):\n",
    "    val=a+b\n",
    "    return val\n",
    "def func2(a,b):\n",
    "    val=a*b\n",
    "    return val"
   ]
  },
  {
   "cell_type": "code",
   "execution_count": 53,
   "id": "ef9d3e77",
   "metadata": {},
   "outputs": [],
   "source": [
    "'''실행 시간 측정 데코레이터'''\n",
    "def elapsed(func): \n",
    "    def wrapper(a,b):\n",
    "        print('함수가 실행됩니다.')\n",
    "        start=time.time()\n",
    "        result=func(a,b)\n",
    "        end=time.time()\n",
    "        print(\"함수 수행시간: %f 초\"%(end-start))\n",
    "        return result\n",
    "    return wrapper"
   ]
  },
  {
   "cell_type": "code",
   "execution_count": 55,
   "id": "f8db89fb",
   "metadata": {},
   "outputs": [
    {
     "name": "stdout",
     "output_type": "stream",
     "text": [
      "함수가 실행됩니다.\n",
      "함수 수행시간: 0.000000 초\n",
      "3\n"
     ]
    }
   ],
   "source": [
    "if __name__ == \"__main__\":\n",
    "    deco1=elapsed(func1)\n",
    "    result=deco1(1,2)\n",
    "    print(result)"
   ]
  },
  {
   "cell_type": "code",
   "execution_count": 56,
   "id": "9e3b4206",
   "metadata": {},
   "outputs": [
    {
     "name": "stdout",
     "output_type": "stream",
     "text": [
      "함수가 실행됩니다.\n",
      "함수 수행시간: 0.000000 초\n",
      "2\n"
     ]
    }
   ],
   "source": [
    "if __name__ ==\"__main__\":\n",
    "    deco2=elapsed(func2)\n",
    "    result=deco2(1,2)\n",
    "    print(result)"
   ]
  },
  {
   "cell_type": "code",
   "execution_count": 57,
   "id": "66c553de",
   "metadata": {},
   "outputs": [],
   "source": [
    "@elapsed\n",
    "def func1(a,b):\n",
    "    val=a+b\n",
    "    return val\n",
    "@elapsed\n",
    "def func2(a,b):\n",
    "    val=a*b\n",
    "    return val"
   ]
  },
  {
   "cell_type": "code",
   "execution_count": 59,
   "id": "89058f9c",
   "metadata": {},
   "outputs": [
    {
     "name": "stdout",
     "output_type": "stream",
     "text": [
      "함수가 실행됩니다.\n",
      "함수 수행시간: 0.001001 초\n",
      "3\n"
     ]
    }
   ],
   "source": [
    "if __name__==\"__main__\":\n",
    "    result=func1(1,2)\n",
    "    print(result)"
   ]
  },
  {
   "cell_type": "code",
   "execution_count": 60,
   "id": "27027d5a",
   "metadata": {},
   "outputs": [
    {
     "name": "stdout",
     "output_type": "stream",
     "text": [
      "함수가 실행됩니다.\n",
      "함수 수행시간: 0.000000 초\n",
      "2\n"
     ]
    }
   ],
   "source": [
    "if __name__==\"__main__\":\n",
    "    result=func2(1,2)\n",
    "    print(result)"
   ]
  },
  {
   "cell_type": "code",
   "execution_count": null,
   "id": "79aef291",
   "metadata": {},
   "outputs": [],
   "source": []
  }
 ],
 "metadata": {
  "kernelspec": {
   "display_name": "fastcampus",
   "language": "python",
   "name": "fastcampus"
  },
  "language_info": {
   "codemirror_mode": {
    "name": "ipython",
    "version": 3
   },
   "file_extension": ".py",
   "mimetype": "text/x-python",
   "name": "python",
   "nbconvert_exporter": "python",
   "pygments_lexer": "ipython3",
   "version": "3.11.0"
  }
 },
 "nbformat": 4,
 "nbformat_minor": 5
}
