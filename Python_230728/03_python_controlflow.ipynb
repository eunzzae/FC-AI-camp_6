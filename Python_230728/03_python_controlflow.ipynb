{
 "cells": [
  {
   "cell_type": "markdown",
   "metadata": {},
   "source": [
    "# 흐름제어문(controlflow)\n",
    "> - 데이터 혹은 사용자가 설정한 조건에 따라 코드의 작동 및 프로그램이 제어 되도록 하는 구문  \n",
    ">> - 판별문, 조건문 또는 분기라고 부름 **`if`**, **`elif`**, **`else`**  \n",
    ">> - 반복문, 무한반복문 **`for`**, **`while`**\n",
    ">> - 예외처리 **`break`**, **`try`**, **`except`**, **`continue`**\n",
    "    \n",
    "# 흐름제어문의 구성\n",
    "> 흐름제어문을 구분하기 위해 indentation block(들여쓰기) 4칸, 혹은 tab을 사용한다.  \n",
    "타 언어의 **`{`** **`{`** **`}`** **`}`** 구분 대신 사용하기에 때문에 들여쓰기가 굉장히 중요하다\n",
    ">> - 순차 : 위에서부터 아래 방향으로 코드가 순서대로 실행된다.  \n",
    ">> - 분기 : 판별문  \n",
    ">> - 반복 : **`while`**, **`for`** 혹은 함수, 클래스  "
   ]
  },
  {
   "cell_type": "markdown",
   "metadata": {},
   "source": [
    "## 1. if, elif, else\n",
    "> - 코드의 무조건 적인 실행이 아닌 사용자의 조건에 맞을 경우에만 코드가 실행되는 구조  \n",
    "> - 같은 프로그램 내 다양한 경우의 수가 있을 경우 사용  \n",
    "> - 코드의 흐름을 나누는 분기  "
   ]
  },
  {
   "cell_type": "markdown",
   "metadata": {},
   "source": [
    "### 1.1 if 구문의 구조\n",
    "```python\n",
    "if 조건식: # 만약 조건식이 True 라면\n",
    "    실행코드1 # 코드가 실행. if 조건이 만족했을 경우 실행되는 코드라고 생각해도 됨\n",
    "\n",
    "elif 조건식: # 만약 if 조건식이 False, elif 조건이 True 라면\n",
    "    실행코드2 # 코드가 실행\n",
    "\n",
    "else: # 만약 위의 모든 조건이 False 라면\n",
    "    실행코드3 # 코드가 실행\n",
    "```"
   ]
  },
  {
   "cell_type": "markdown",
   "metadata": {},
   "source": [
    "- if 문은 하나의 이벤트(사건)에 한번만 사용할 수 있다.\n",
    "- elif 문은 갯수의 제한 없이 사용 가능하다.\n",
    "- 조건식 혹은 명제 --> 참, 거짓을 판별할 수 있는 문장\n",
    "- 코드 실행의 결과가 `True`, `False`\n",
    "- `True`, `False`를 직접 사용가능하며 필요에 따라 조건연산을 사용한다.\n",
    "\n",
    ">> - a >= b\n",
    ">> - a <= b\n",
    ">> - a in b\n",
    ">> - a is b 등등"
   ]
  },
  {
   "cell_type": "markdown",
   "metadata": {},
   "source": [
    "### 간단한 if 구문"
   ]
  },
  {
   "cell_type": "code",
   "execution_count": 13,
   "metadata": {
    "ExecuteTime": {
     "end_time": "2021-04-05T07:15:08.606748Z",
     "start_time": "2021-04-05T07:15:08.603333Z"
    }
   },
   "outputs": [
    {
     "name": "stdout",
     "output_type": "stream",
     "text": [
      "내부 참입니다.\n",
      "참입니다.\n"
     ]
    }
   ],
   "source": [
    "# 조건을 True, False\n",
    "# if문의 코드의 실행은 조건을 만족하는 조건 하나에 대해서만 실행을 시킵니다.  \n",
    "# 조건이 참이면\n",
    "\n",
    "if True:\n",
    "    if True:\n",
    "        print(\"내부 참입니다.\")\n",
    "    print('참입니다.')\n",
    "# if 키워드 아래 블럭 하나 안쪽의 코드가 실행\n",
    "elif True:\n",
    "    print('두번째 참입니다.')\n",
    "elif True:\n",
    "    print('두번째 참입니다.')\n",
    "elif True:\n",
    "    print('두번째 참입니다.')\n",
    "# 위의 조건에 걸러지지 않았다면 조건이 거짓이라면\n",
    "else:\n",
    "    print(\"모두 거짓입니다.\")\n",
    "# 아래 코드가 실행\n"
   ]
  },
  {
   "cell_type": "code",
   "execution_count": 12,
   "metadata": {
    "ExecuteTime": {
     "end_time": "2021-04-05T07:15:41.429118Z",
     "start_time": "2021-04-05T07:15:41.425546Z"
    }
   },
   "outputs": [
    {
     "name": "stdout",
     "output_type": "stream",
     "text": [
      "참입니다.\n"
     ]
    }
   ],
   "source": [
    "# 조건식을 사용\n",
    "# 4가 3보다 크다면(조건연산) 참이면\n",
    "if 4>3:\n",
    "    print('참입니다.')\n",
    "# 해당 코드가 실행\n"
   ]
  },
  {
   "cell_type": "code",
   "execution_count": null,
   "metadata": {},
   "outputs": [],
   "source": [
    "# 변수와 elif 조건식을 사용\n"
   ]
  },
  {
   "cell_type": "markdown",
   "metadata": {},
   "source": [
    "### 제어문의 흐름을 파악해보기"
   ]
  },
  {
   "cell_type": "code",
   "execution_count": 14,
   "metadata": {
    "ExecuteTime": {
     "end_time": "2021-05-24T23:00:32.468554Z",
     "start_time": "2021-05-24T23:00:32.461557Z"
    }
   },
   "outputs": [
    {
     "name": "stdout",
     "output_type": "stream",
     "text": [
      "1\n",
      "2\n",
      "5\n",
      "6\n",
      "7\n",
      "9\n",
      "11\n",
      "12\n",
      "13\n"
     ]
    }
   ],
   "source": [
    "# 코드의 실행 결과는 무엇이 출력될까요?\n",
    "\n",
    "print(1) # 출력\n",
    "if True: # 출력\n",
    "    print(2) \n",
    "    if False: \n",
    "        print(3)# 미출력\n",
    "        print(4)# 미출력\n",
    "    elif True: \n",
    "        print(5)# 출력\n",
    "        if True:\n",
    "            print(6) # 출력\n",
    "            print(7) # 출력\n",
    "            if False:\n",
    "                print(8) #미출력\n",
    "            elif True:\n",
    "                print(9)#출력\n",
    "    else: \n",
    "        print(10)# 미출력\n",
    "    if True: \n",
    "        print(11) # 출력\n",
    "    print(12) # 출력\n",
    "print(13) # 출력"
   ]
  },
  {
   "cell_type": "markdown",
   "metadata": {},
   "source": [
    "### 연습문제\n",
    "> 1. 간단한 스무고개 게임을 만들어봅시다.  \n",
    "컴퓨터와 플레이어를 변수로 만들고 두 값을 비교하여 업/다운/정답을 출력하는 프로그램을 만들어보겠습니다.\n",
    "\n",
    "> 2. 지난시간 우리는 변수와 데이터의 타입에 대해서 배웠습니다.  \n",
    "이번에는 방금 학습한 input함수를 사용하여 사용자로부터 키, 몸무게를 입력받아 변수에 저장하고  \n",
    "변수를 사용하여 bmi를 계산 후 아래 조건식에 따라 사용자의 체형을 출력해주는 프로그램을 작성해보겠습니다.  \n",
    ">>bmi = 체중(kg) / 키(m)^2  \n",
    "20 미만 - 저체중  \n",
    "20 ~ 24미만 - 표준체중  \n",
    "24 ~ 30미만 - 과체중  \n",
    "30 이상 - 비만  "
   ]
  },
  {
   "cell_type": "code",
   "execution_count": null,
   "metadata": {},
   "outputs": [],
   "source": [
    "# 연습문제\n",
    "# 간단한 스무고개 게임을 만들어봅시다.\n",
    "# 컴퓨터와 플레이어를 변수로 만들고 두 값을 비교하여 업/다운/정답을 출력하는 프로그램을 만들어보겠습니다.\n",
    "# 컴퓨터 변수는 특정값을 저장하고, 플레이어 변수는 사용자에게 값을 입력받아서 저장\n",
    "computer=50\n",
    "player=input(\"맞출 숫자를 입력하세요. : \")\n",
    "\n",
    "if computer>player:\n",
    "    print(\"업\")\n",
    "elif computer<player:\n",
    "    print(\"다운\")\n",
    "else:\n",
    "    print(\"정답\")"
   ]
  },
  {
   "cell_type": "code",
   "execution_count": 4,
   "metadata": {},
   "outputs": [
    {
     "name": "stdout",
     "output_type": "stream",
     "text": [
      "키를 cm단위로 입력하세요 : 160\n",
      "몸무게를 kg단위로 입력하세요 : 55\n",
      "당신의 bmi는 21.4844이고 표준체중입니다.\n"
     ]
    }
   ],
   "source": [
    "#지난시간 우리는 변수와 데이터의 타입에 대해서 배웠습니다.\n",
    "#이번에는 방금 학습한 input함수를 사용하여 사용자로부터 키, 몸무게를 입력받아 변수에 저장하고\n",
    "#변수를 사용하여 bmi를 계산 후 아래 조건식에 따라 사용자의 체형을 출력해주는 프로그램을 작성해보겠습니다.\n",
    "\n",
    "hight=float(input(\"키를 cm단위로 입력하세요 : \"))\n",
    "weight=float(input(\"몸무게를 kg단위로 입력하세요 : \"))\n",
    "bmi=round(weight/(hight/100)**2,4)\n",
    "\n",
    "#bmi = 체중(kg) / 키(m)^2\n",
    "#20 미만 - 저체중\n",
    "#20 ~ 24미만 - 표준체중\n",
    "#24 ~ 30미만 - 과체중\n",
    "#30 이상 - 비만\n",
    "\n",
    "if bmi<20:\n",
    "    print(f\"당신의 bmi는 {bmi}이고 저체중입니다.\")\n",
    "elif 20<=bmi<24:\n",
    "    print(f\"당신의 bmi는 {bmi}이고 표준체중입니다.\")\n",
    "elif 24<=bmi<30:\n",
    "    print(f\"당신의 bmi는 {bmi}이고 과체중입니다.\")\n",
    "else:\n",
    "    print(f\"당신의 bmi는 {bmi}이고 비만입니다.\")\n"
   ]
  },
  {
   "cell_type": "markdown",
   "metadata": {},
   "source": [
    "## for, break\n",
    "> - 코드의 반복적인 실행을 위한 구문  \n",
    "> - 반복실행해야 하는 범위가 있을 때 사용  \n",
    "> - 보통은 데이터의 갯수 혹은 분석하고자 하는 데이터의 범위 내에서 반복작업을 할 때 사용  \n",
    "> - **`if`** 문과 함께 주로 사용되는 반복구문  "
   ]
  },
  {
   "cell_type": "code",
   "execution_count": 5,
   "metadata": {},
   "outputs": [
    {
     "name": "stdout",
     "output_type": "stream",
     "text": [
      "1\n",
      "2\n",
      "3\n",
      "4\n"
     ]
    }
   ],
   "source": [
    "# 단순반복 작업을 효율적으로... 4개는 손으로 해도 10개 100개는 어떻게?\n",
    "print(1)\n",
    "print(2)\n",
    "print(3)\n",
    "print(4)"
   ]
  },
  {
   "cell_type": "markdown",
   "metadata": {},
   "source": [
    "### for 문의 구조\n",
    "```python\n",
    "for 반복자 in 반복범위: # 반복범위로 전달한 자료구조 혹은 범위 안에서 순환하며 반복자가 정의되며\n",
    "    반복실행코드 # 위의 for문 반복범위 횟수만큼 반복실행코드가 반복되어 실행된다.\n",
    "```"
   ]
  },
  {
   "cell_type": "markdown",
   "metadata": {},
   "source": [
    "- 반복자 : 구간(범위)를 순환하며 정의되는 변수  \n",
    "- 반복범위 : **`list`** 등 순서가 존재하는 자료구조  \n",
    "- 관례적으로 심플한 반복자는 **`_`**(반복자를 작업에 사용하지 않을경우) 혹은 영문자 **`i`**(iterator)를 사용한다.  \n",
    "\n",
    "혹은 **`range()`** 명령어로 혹은 반복작업 횟수로 설정 가능      \n",
    "> **`range()`** 명령어  \n",
    "> **`range(횟수)`** 횟수만큼의 범위 생성  \n",
    "> **`range(x, y, z)`** x 부터 y-1 까지 z스텝 범위를 만들어주는 함수  "
   ]
  },
  {
   "cell_type": "code",
   "execution_count": 6,
   "metadata": {},
   "outputs": [
    {
     "data": {
      "text/plain": [
       "range(0, 5)"
      ]
     },
     "execution_count": 6,
     "metadata": {},
     "output_type": "execute_result"
    }
   ],
   "source": [
    "range(5) [0,1,2,3,4]"
   ]
  },
  {
   "cell_type": "code",
   "execution_count": 7,
   "metadata": {
    "ExecuteTime": {
     "end_time": "2021-04-05T07:21:06.898363Z",
     "start_time": "2021-04-05T07:21:06.894599Z"
    }
   },
   "outputs": [
    {
     "name": "stdout",
     "output_type": "stream",
     "text": [
      "반복 중입니다.\n",
      "반복 중입니다.\n",
      "반복 중입니다.\n",
      "반복 중입니다.\n",
      "반복 중입니다.\n"
     ]
    }
   ],
   "source": [
    "# 기본적인 for 구문 i(iterator 변수로서 사용 가능)\n",
    "for i in range(5):\n",
    "    print(\"반복 중입니다.\")\n",
    "    # 0 ~ 4까지 범위에서 i를 정의하며 반복한다.\n",
    "    # range() 명령어는 0부터 시작 5 전까지 구간을 생성\n",
    "    # 간단하게 5번 반복한다고 생각해도 무방합니다.\n"
   ]
  },
  {
   "cell_type": "code",
   "execution_count": 8,
   "metadata": {
    "ExecuteTime": {
     "end_time": "2021-04-05T07:25:03.564327Z",
     "start_time": "2021-04-05T07:25:03.558955Z"
    }
   },
   "outputs": [
    {
     "name": "stdout",
     "output_type": "stream",
     "text": [
      "0\n",
      "1\n",
      "2\n",
      "3\n",
      "4\n"
     ]
    }
   ],
   "source": [
    "# 이터레이터 i를 조금 더 이해해보겠습니다.\n",
    "# 필요없을 것 같은 이 i라는 친구가 굉장히 유용합니다.\n",
    "for i in range(5):\n",
    "    print(i)\n",
    "# for 반복문을 수행하면서 i 값이 변화하고 반복문 내 변수로도 사용 가능합니다."
   ]
  },
  {
   "cell_type": "code",
   "execution_count": 10,
   "metadata": {
    "ExecuteTime": {
     "end_time": "2021-04-05T07:26:31.365329Z",
     "start_time": "2021-04-05T07:26:31.361908Z"
    }
   },
   "outputs": [
    {
     "name": "stdout",
     "output_type": "stream",
     "text": [
      "0\n",
      "5\n",
      "10\n",
      "15\n"
     ]
    }
   ],
   "source": [
    "# range 함수의 조건 추가\n",
    "# 0부터 19까지 5의 배수만을 출력\n",
    "for i in range(0,20,5):\n",
    "    print(i)"
   ]
  },
  {
   "cell_type": "code",
   "execution_count": 15,
   "metadata": {},
   "outputs": [
    {
     "name": "stdout",
     "output_type": "stream",
     "text": [
      "i:0 , j:0\n",
      "i:0 , j:1\n",
      "i:0 , j:2\n",
      "i:0 , j:3\n",
      "i:0 , j:4\n",
      "i:1 , j:0\n",
      "i:1 , j:1\n",
      "i:1 , j:2\n",
      "i:1 , j:3\n",
      "i:1 , j:4\n",
      "i:2 , j:0\n",
      "i:2 , j:1\n",
      "i:2 , j:2\n",
      "i:2 , j:3\n",
      "i:2 , j:4\n"
     ]
    }
   ],
   "source": [
    "# for문의 중첩\n",
    "for i in range(3):\n",
    "    for j in range(5): \n",
    "        print(f\"i:{i} , j:{j}\")"
   ]
  },
  {
   "cell_type": "markdown",
   "metadata": {},
   "source": [
    "### 연습문제"
   ]
  },
  {
   "cell_type": "code",
   "execution_count": 12,
   "metadata": {
    "ExecuteTime": {
     "end_time": "2021-04-05T08:02:23.021987Z",
     "start_time": "2021-04-05T08:02:23.017333Z"
    }
   },
   "outputs": [
    {
     "name": "stdout",
     "output_type": "stream",
     "text": [
      "9\n",
      "18\n",
      "27\n",
      "36\n",
      "45\n",
      "54\n",
      "63\n",
      "72\n",
      "81\n"
     ]
    }
   ],
   "source": [
    "# for 문으로 range() 명령어만을 사용하여 구구단 구단을 출력해봅시다.\n",
    "for i in range(9,82,9):\n",
    "    print(i)"
   ]
  },
  {
   "cell_type": "code",
   "execution_count": 52,
   "metadata": {},
   "outputs": [
    {
     "name": "stdout",
     "output_type": "stream",
     "text": [
      "2 X 1 = 2\n",
      "2 X 2 = 4\n",
      "2 X 3 = 6\n",
      "2 X 4 = 8\n",
      "2 X 5 = 10\n",
      "2 X 6 = 12\n",
      "2 X 7 = 14\n",
      "3 X 1 = 3\n",
      "3 X 2 = 6\n",
      "3 X 3 = 9\n",
      "3 X 4 = 12\n",
      "3 X 5 = 15\n",
      "3 X 6 = 18\n",
      "3 X 7 = 21\n",
      "4 X 1 = 4\n",
      "4 X 2 = 8\n",
      "4 X 3 = 12\n",
      "4 X 4 = 16\n",
      "4 X 5 = 20\n",
      "4 X 6 = 24\n",
      "4 X 7 = 28\n",
      "5 X 1 = 5\n",
      "5 X 2 = 10\n",
      "5 X 3 = 15\n",
      "5 X 4 = 20\n",
      "5 X 5 = 25\n",
      "5 X 6 = 30\n",
      "5 X 7 = 35\n"
     ]
    }
   ],
   "source": [
    "# 전체 구구단 2단부터 9단까지\n",
    "\n",
    "for i in range(2,10):\n",
    "    if i > 5:\n",
    "        break\n",
    "    for j in range(1,10):\n",
    "        if j>7:\n",
    "            break\n",
    "        print(f\"{i} X {j} = {i*j}\")\n",
    "            \n",
    "# 내부단수 7단까지만 출력\n",
    "# 외부단수 5단까지만 출력"
   ]
  },
  {
   "cell_type": "markdown",
   "metadata": {},
   "source": [
    "### break 구문\n",
    "    반복 작업 중 작업을 종료해야 할 때 사용"
   ]
  },
  {
   "cell_type": "code",
   "execution_count": 36,
   "metadata": {
    "ExecuteTime": {
     "end_time": "2021-04-05T07:23:14.546351Z",
     "start_time": "2021-04-05T07:23:14.541946Z"
    }
   },
   "outputs": [
    {
     "name": "stdout",
     "output_type": "stream",
     "text": [
      "0\n",
      "1\n",
      "2\n",
      "3\n",
      "4\n",
      "5\n",
      "6\n",
      "7\n",
      "8\n",
      "9\n"
     ]
    }
   ],
   "source": [
    "# 반복을 진행하다가 멈추고 싶다\n",
    "# 10번 반복\n",
    "for i in range(10):\n",
    "    print(i)"
   ]
  },
  {
   "cell_type": "code",
   "execution_count": 37,
   "metadata": {},
   "outputs": [
    {
     "name": "stdout",
     "output_type": "stream",
     "text": [
      "0\n",
      "1\n",
      "2\n",
      "3\n",
      "4\n",
      "5\n"
     ]
    }
   ],
   "source": [
    "# if문으로 조건식 생성\n",
    "for i in range(10):\n",
    "    if i > 5:\n",
    "        break\n",
    "    print(i)"
   ]
  },
  {
   "cell_type": "markdown",
   "metadata": {},
   "source": [
    "### 자료구조를 순환하는 for문의 활용(매우 중요)"
   ]
  },
  {
   "cell_type": "code",
   "execution_count": 60,
   "metadata": {
    "ExecuteTime": {
     "end_time": "2021-04-05T07:26:40.317409Z",
     "start_time": "2021-04-05T07:26:40.312727Z"
    }
   },
   "outputs": [
    {
     "name": "stdout",
     "output_type": "stream",
     "text": [
      "5.0\n",
      "10.0\n",
      "15.0\n",
      "20.0\n",
      "25.0\n",
      "30.0\n",
      "35.0\n",
      "40.0\n",
      "45.0\n"
     ]
    }
   ],
   "source": [
    "# 횟수뿐 아니라 구간이 정해져 있는 데이터를 순환하면서도 작업가능\n",
    "# 실제 분석에서도 가장 많이 사용하는 형태가 됩니다.\n",
    "test_list = [10, 20, 30, 40, 50, 60, 70, 80, 90]\n",
    "# test_list 내부를 순환하면서 i를 정의\n",
    "for item in test_list:\n",
    "    print(item/10*5) #전체데이터에 대해서 연산 등을 작업할 때 많이 사용하는 구조 \n",
    "    "
   ]
  },
  {
   "cell_type": "code",
   "execution_count": 71,
   "metadata": {
    "ExecuteTime": {
     "end_time": "2021-04-05T07:27:31.332400Z",
     "start_time": "2021-04-05T07:27:31.326357Z"
    }
   },
   "outputs": [
    {
     "name": "stdout",
     "output_type": "stream",
     "text": [
      "0 서울\n",
      "1 용산구\n",
      "2 해방촌\n",
      "3 르카페\n",
      "4 재즈\n",
      "5 치즈\n",
      "6 요리\n"
     ]
    }
   ],
   "source": [
    "# 횟수뿐 아니라 구간이 정해져 있는 데이터를 순환하면서도 작업가능\n",
    "test_list = ['서울', '용산구', '해방촌', '르카페', '재즈', '치즈', '요리']\n",
    "# enumerate() 함수안의 자료구조의 인덱스와 함께 루프\n",
    "\n",
    "for index, item in enumerate(test_list):\n",
    "    if item == '해방촌':\n",
    "        test_list[index]='경리단길'\n",
    "        \n",
    "    print(index, item)"
   ]
  },
  {
   "cell_type": "code",
   "execution_count": 72,
   "metadata": {},
   "outputs": [
    {
     "data": {
      "text/plain": [
       "['서울', '용산구', '경리단길', '르카페', '재즈', '치즈', '요리']"
      ]
     },
     "execution_count": 72,
     "metadata": {},
     "output_type": "execute_result"
    }
   ],
   "source": [
    "test_list"
   ]
  },
  {
   "cell_type": "code",
   "execution_count": 77,
   "metadata": {
    "ExecuteTime": {
     "end_time": "2021-04-05T07:27:57.621556Z",
     "start_time": "2021-04-05T07:27:57.616251Z"
    }
   },
   "outputs": [
    {
     "name": "stdout",
     "output_type": "stream",
     "text": [
      "0 이름 변치웅\n",
      "1 사는곳 서울 용산구\n",
      "2 사는동네 해방촌\n",
      "3 좋아하는 카페 르카페\n",
      "4 음악 재즈\n",
      "5 반려묘 치즈\n",
      "6 취미 요리\n"
     ]
    }
   ],
   "source": [
    "# 횟수뿐 아니라 구간이 정해져 있는 데이터를 순환하면서도 작업가능\n",
    "# 여러 개의 데이터를 동시에 순환\n",
    "\n",
    "test_list1 = ['이름', '사는곳', '사는동네', '좋아하는 카페', '음악', '반려묘', '취미']\n",
    "test_list2 = ['변치웅', '서울 용산구', '해방촌', '르카페', '재즈', '치즈', '요리']\n",
    "\n",
    "for index, (item1, item2) in enumerate(zip(test_list1, test_list2)):\n",
    "    print(index, item1, item2)"
   ]
  },
  {
   "cell_type": "code",
   "execution_count": 85,
   "metadata": {},
   "outputs": [
    {
     "name": "stdout",
     "output_type": "stream",
     "text": [
      "01_python_basic.ipynb\n",
      "02_python_sequence.ipynb\n",
      "03_python_controlflow.ipynb\n",
      "04_python_function_class.ipynb\n"
     ]
    }
   ],
   "source": [
    "# 폴더구조를 순환하는 for문의 활용\n",
    "import os # 운영체제의 명령어를 파이썬으로 제어할 수 있는 패키지\n",
    "for file_nm in os.listdir():\n",
    "    # 시작문자열 혹은 끝나는 문자열 기준으로 True, False\n",
    "    if file_nm.endswith('ipynb'):\n",
    "    # if file_nm[-5:] == 'ipynb':\n",
    "        print(file_nm)"
   ]
  },
  {
   "cell_type": "code",
   "execution_count": null,
   "metadata": {
    "ExecuteTime": {
     "end_time": "2021-04-05T07:28:02.968382Z",
     "start_time": "2021-04-05T07:28:02.959264Z"
    }
   },
   "outputs": [],
   "source": [
    "# 그렇다면 미리 정해진 숫자 혹은 데이터로만 사용이 가능할까?\n",
    "# 생성할 때도 용이함\n",
    "test_list=[]\n",
    "for i in range(21):\n",
    "    test_list.append(i)\n",
    "test_list"
   ]
  },
  {
   "cell_type": "code",
   "execution_count": 2,
   "metadata": {
    "ExecuteTime": {
     "end_time": "2021-04-05T08:07:13.245239Z",
     "start_time": "2021-04-05T08:07:11.624590Z"
    }
   },
   "outputs": [
    {
     "name": "stdout",
     "output_type": "stream",
     "text": [
      "더할 숫자를 입력하세요 : 5\n",
      "더할 숫자를 입력하세요 : 5\n",
      "더할 숫자를 입력하세요 : 5\n",
      "더할 숫자를 입력하세요 : 5\n",
      "더할 숫자를 입력하세요 : 5\n",
      "총 합은 25입니다.\n"
     ]
    }
   ],
   "source": [
    "# 숫자를 5번 입력받고 입력받은 숫자의 합을 계산해주는 코드를 작성해 봅시다.\n",
    "# 변수, 리스트, 증강연산자\n",
    "total = 0\n",
    "for i in range(5):\n",
    "    num=int(input(\"더할 숫자를 입력하세요 : \"))\n",
    "    total += num # 증강연산자 \n",
    "print(f\"총 합은 {total}입니다.\")"
   ]
  },
  {
   "cell_type": "code",
   "execution_count": 3,
   "metadata": {},
   "outputs": [
    {
     "name": "stdout",
     "output_type": "stream",
     "text": [
      "더할 숫자를 입력하세요 : 5\n",
      "더할 숫자를 입력하세요 : 5\n",
      "더할 숫자를 입력하세요 : 5\n",
      "더할 숫자를 입력하세요 : 5\n",
      "더할 숫자를 입력하세요 : 5\n",
      "총 합은 25입니다.\n"
     ]
    }
   ],
   "source": [
    "total = [0]\n",
    "for i in range(5):\n",
    "    num=int(input(\"더할 숫자를 입력하세요 : \"))\n",
    "    total.append(num) # 리스트\n",
    "print(f\"총 합은 {sum(total)}입니다.\")"
   ]
  },
  {
   "cell_type": "markdown",
   "metadata": {},
   "source": [
    "### list comprehension\n",
    "> - controlflow를 활용하여 간단하게 리스트 생성 가능한 파이썬 구문  \n",
    "> - 데이터의 특정 부분만을 따로 변수로 사용하고자 할 때 굉장히 많이 사용하는 파이썬 코딩스킬"
   ]
  },
  {
   "cell_type": "code",
   "execution_count": 3,
   "metadata": {
    "ExecuteTime": {
     "end_time": "2021-04-05T08:09:19.915465Z",
     "start_time": "2021-04-05T08:09:19.911111Z"
    }
   },
   "outputs": [
    {
     "data": {
      "text/plain": [
       "[0, 1, 2, 3, 4, 5, 6, 7, 8, 9, 10, 11, 12, 13, 14, 15, 16, 17, 18, 19, 20]"
      ]
     },
     "execution_count": 3,
     "metadata": {},
     "output_type": "execute_result"
    }
   ],
   "source": [
    "# 심플한 리스트 컴프리헨션 구문\n",
    "# test_list=[]\n",
    "# for i in range(21):\n",
    "#    test_list.append(i)\n",
    "\n",
    "[i for i in range(21)]"
   ]
  },
  {
   "cell_type": "code",
   "execution_count": 5,
   "metadata": {},
   "outputs": [
    {
     "data": {
      "text/plain": [
       "[0, 2, 4, 6, 8, 10, 12, 14, 16, 18, 20]"
      ]
     },
     "execution_count": 5,
     "metadata": {},
     "output_type": "execute_result"
    }
   ],
   "source": [
    "# if문이 추가된 리스트 컴프리헨션 구문\n",
    "[i for i in range(21) if i % 2 == 0]"
   ]
  },
  {
   "cell_type": "code",
   "execution_count": 6,
   "metadata": {
    "scrolled": true
   },
   "outputs": [
    {
     "data": {
      "text/plain": [
       "[0, 0, 2, 0, 4, 0, 6, 0, 8, 0, 10, 0, 12, 0, 14, 0, 16, 0, 18, 0, 20]"
      ]
     },
     "execution_count": 6,
     "metadata": {},
     "output_type": "execute_result"
    }
   ],
   "source": [
    "# if, else문이 추가된 리스트 컴프리헨션 구문(elif 불가)\n",
    "[i if i % 2 ==0 else 0 for i in range(21) ]"
   ]
  },
  {
   "cell_type": "code",
   "execution_count": 7,
   "metadata": {},
   "outputs": [],
   "source": [
    "test_list=[i for i in range(10)]"
   ]
  },
  {
   "cell_type": "code",
   "execution_count": 9,
   "metadata": {},
   "outputs": [
    {
     "data": {
      "text/plain": [
       "[0.0, 0.2, 0.4, 0.6, 0.8, 1.0, 1.2, 1.4, 1.6, 1.8]"
      ]
     },
     "execution_count": 9,
     "metadata": {},
     "output_type": "execute_result"
    }
   ],
   "source": [
    "test_list2=[i/5 for i in test_list]\n",
    "test_list2"
   ]
  },
  {
   "cell_type": "markdown",
   "metadata": {},
   "source": [
    "### dictionary comprehension"
   ]
  },
  {
   "cell_type": "code",
   "execution_count": 12,
   "metadata": {},
   "outputs": [],
   "source": [
    "# 간단한 딕셔너리 축약 구문\n",
    "test_list1 = ['이름', '사는곳', '사는동네', '좋아하는 카페', '음악', '반려묘', '취미']\n",
    "test_list2 = ['변치웅', '서울 용산구', '해방촌', '르카페', '재즈', '치즈', '요리']\n",
    "\n",
    "a={item1:item2 for item1, item2 in zip(test_list1,test_list2)}\n",
    "b={item2:item1 for item1, item2 in zip(test_list1,test_list2)}"
   ]
  },
  {
   "cell_type": "code",
   "execution_count": 16,
   "metadata": {},
   "outputs": [
    {
     "data": {
      "text/plain": [
       "{'이름': '변치웅',\n",
       " '사는곳': '서울 용산구',\n",
       " '사는동네': '해방촌',\n",
       " '좋아하는 카페': '르카페',\n",
       " '음악': '재즈',\n",
       " '반려묘': '치즈',\n",
       " '취미': '요리'}"
      ]
     },
     "execution_count": 16,
     "metadata": {},
     "output_type": "execute_result"
    }
   ],
   "source": [
    "a"
   ]
  },
  {
   "cell_type": "markdown",
   "metadata": {},
   "source": [
    "## while\n",
    "> - 코드의 무한 반복적인 실행을 위한 반복문  \n",
    "> - 조건식이 참일 경우 실행코드가 무한반복하여 실행 됨  \n",
    "> - 보통은 프로그램을 실행 대기상태로 두거나 입력값을 받는 등의 용도로 사용.(데이터 분석 사용빈도 낮음)  "
   ]
  },
  {
   "cell_type": "markdown",
   "metadata": {},
   "source": [
    "### while문의 구조\n",
    "```python\n",
    "while 조건식: # 조건식이 참이라면\n",
    "    실행코드 # 실행코드가 무한반복 실행 됨\n",
    "```"
   ]
  },
  {
   "cell_type": "markdown",
   "metadata": {},
   "source": [
    "- `while` 문의 조건식이 참일 경우 무조건 실행되게끔 짜여진 구조.  \n",
    "- `while` 문을 사용 할 때에는 반복구문을 어떻게 종료 해야할지 설정해야 함."
   ]
  },
  {
   "cell_type": "code",
   "execution_count": 20,
   "metadata": {
    "ExecuteTime": {
     "end_time": "2021-03-22T04:54:04.040031Z",
     "start_time": "2021-03-22T04:53:55.699326Z"
    },
    "scrolled": false
   },
   "outputs": [
    {
     "name": "stdout",
     "output_type": "stream",
     "text": [
      "0\n",
      "1\n",
      "2\n",
      "3\n",
      "4\n",
      "5\n",
      "6\n",
      "7\n",
      "8\n",
      "9\n"
     ]
    }
   ],
   "source": [
    "# 기본적인 while 구문\n",
    "# for문과는 달리 조건식을 while 구문 바로 뒤에 적어줌\n",
    "# while문의 무한루프를 컨트롤 하기위한 변수 설정하고 조건식을 추가하여 코드실행을 컨트롤\n",
    "a=0\n",
    "while a < 10:\n",
    "    print(a)\n",
    "    a+=1\n",
    "\n",
    "    \n",
    "# 반복을 진행하다가 멈추고 싶다\n",
    "    #a += 1\n",
    "    #if a > 50:\n",
    "    #    break"
   ]
  },
  {
   "cell_type": "code",
   "execution_count": 24,
   "metadata": {
    "ExecuteTime": {
     "end_time": "2021-04-05T08:16:44.604031Z",
     "start_time": "2021-04-05T08:16:44.599085Z"
    }
   },
   "outputs": [
    {
     "name": "stdout",
     "output_type": "stream",
     "text": [
      "1\n",
      "2\n",
      "3\n",
      "4\n",
      "5\n",
      "6\n",
      "7\n",
      "8\n",
      "9\n",
      "10\n"
     ]
    }
   ],
   "source": [
    "# 1~10까지 출력되도록\n",
    "# while문\n",
    "a=1\n",
    "while a<11:\n",
    "    print(a)   \n",
    "    a+=1 "
   ]
  },
  {
   "cell_type": "code",
   "execution_count": null,
   "metadata": {
    "ExecuteTime": {
     "end_time": "2021-04-05T08:16:57.346496Z",
     "start_time": "2021-04-05T08:16:57.342624Z"
    }
   },
   "outputs": [],
   "source": [
    "# 10~1까지 출력되도록\n",
    "# while문\n"
   ]
  },
  {
   "cell_type": "code",
   "execution_count": null,
   "metadata": {
    "ExecuteTime": {
     "end_time": "2021-04-05T08:17:10.730255Z",
     "start_time": "2021-04-05T08:17:10.726135Z"
    }
   },
   "outputs": [],
   "source": [
    "# 1~5까지의 합을 구해서 출력\n",
    "# while문\n"
   ]
  },
  {
   "cell_type": "code",
   "execution_count": null,
   "metadata": {
    "ExecuteTime": {
     "end_time": "2021-04-05T08:17:20.739782Z",
     "start_time": "2021-04-05T08:17:20.735999Z"
    }
   },
   "outputs": [],
   "source": [
    "# 1~100까지의 합\n",
    "# while 문\n"
   ]
  },
  {
   "cell_type": "code",
   "execution_count": null,
   "metadata": {
    "ExecuteTime": {
     "end_time": "2021-04-05T08:17:21.729200Z",
     "start_time": "2021-04-05T08:17:21.725648Z"
    }
   },
   "outputs": [],
   "source": [
    "# for문\n"
   ]
  },
  {
   "cell_type": "code",
   "execution_count": 34,
   "metadata": {
    "ExecuteTime": {
     "end_time": "2021-04-05T08:18:14.519540Z",
     "start_time": "2021-04-05T08:18:14.515940Z"
    }
   },
   "outputs": [
    {
     "name": "stdout",
     "output_type": "stream",
     "text": [
      "2500\n"
     ]
    }
   ],
   "source": [
    "# 1~100까지의 정수 중에서 홀수들의 합\n",
    "# while문\n",
    "a=0\n",
    "total=0\n",
    "while a<101:\n",
    "    if a%2==1:\n",
    "        total+=a\n",
    "    a+=1\n",
    "print(total)"
   ]
  },
  {
   "cell_type": "code",
   "execution_count": null,
   "metadata": {
    "ExecuteTime": {
     "end_time": "2021-04-05T08:18:14.761348Z",
     "start_time": "2021-04-05T08:18:14.757721Z"
    }
   },
   "outputs": [],
   "source": [
    "# for문\n"
   ]
  },
  {
   "cell_type": "code",
   "execution_count": null,
   "metadata": {
    "ExecuteTime": {
     "end_time": "2021-04-05T08:18:38.175746Z",
     "start_time": "2021-04-05T08:18:38.171754Z"
    }
   },
   "outputs": [],
   "source": [
    "# 1~100까지의 정수 중에서 짝수들의 합\n",
    "# while문\n"
   ]
  },
  {
   "cell_type": "code",
   "execution_count": null,
   "metadata": {
    "ExecuteTime": {
     "end_time": "2021-04-05T08:18:38.414017Z",
     "start_time": "2021-04-05T08:18:38.410225Z"
    }
   },
   "outputs": [],
   "source": [
    "# for문\n"
   ]
  },
  {
   "cell_type": "markdown",
   "metadata": {},
   "source": [
    "### 연습문제\n",
    ">간단한 스무고개 게임 업그레이드 버전  \n",
    "컴퓨터가 저장 할 숫자를 사용자에게 입력받아 저장하고, 게이머에게 입력받은 숫자를 판별하여 업, 다운, 정답을 출력.   \n",
    "게임 횟수는 10회이며, 10회 동안 정답을 못 맞출 경우 실패 문구를 출력하도록 프로그램을 만들어 보겠습니다.\n",
    "10회 내에 정답을 맞추면 코드가 종료되는 코드 추가"
   ]
  },
  {
   "cell_type": "code",
   "execution_count": 4,
   "metadata": {},
   "outputs": [
    {
     "ename": "KeyboardInterrupt",
     "evalue": "Interrupted by user",
     "output_type": "error",
     "traceback": [
      "\u001b[1;31m-----------------------------------------------------------------------\u001b[0m",
      "\u001b[1;31mKeyboardInterrupt\u001b[0m                     Traceback (most recent call last)",
      "Cell \u001b[1;32mIn[4], line 4\u001b[0m\n\u001b[0;32m      1\u001b[0m \u001b[38;5;66;03m# 연습문제 \u001b[39;00m\n\u001b[0;32m      3\u001b[0m \u001b[38;5;28;01mwhile\u001b[39;00m \u001b[38;5;28;01mTrue\u001b[39;00m:\n\u001b[1;32m----> 4\u001b[0m     computer\u001b[38;5;241m=\u001b[39m\u001b[38;5;28mint\u001b[39m(\u001b[38;5;28;43minput\u001b[39;49m\u001b[43m(\u001b[49m\u001b[38;5;124;43m\"\u001b[39;49m\u001b[38;5;124;43m저장될 숫자를 입력하세요. : \u001b[39;49m\u001b[38;5;124;43m\"\u001b[39;49m\u001b[43m)\u001b[49m)\n\u001b[0;32m      5\u001b[0m     \u001b[38;5;28;01mfor\u001b[39;00m i \u001b[38;5;129;01min\u001b[39;00m \u001b[38;5;28mrange\u001b[39m(\u001b[38;5;241m10\u001b[39m):\n\u001b[0;32m      6\u001b[0m         player\u001b[38;5;241m=\u001b[39m\u001b[38;5;28mint\u001b[39m(\u001b[38;5;28minput\u001b[39m(\u001b[38;5;124m\"\u001b[39m\u001b[38;5;124m정답 숫자를 입력하세요 : \u001b[39m\u001b[38;5;124m\"\u001b[39m))\n",
      "File \u001b[1;32mC:\\ProgramData\\anaconda3\\lib\\site-packages\\ipykernel\\kernelbase.py:1175\u001b[0m, in \u001b[0;36mKernel.raw_input\u001b[1;34m(self, prompt)\u001b[0m\n\u001b[0;32m   1171\u001b[0m \u001b[38;5;28;01mif\u001b[39;00m \u001b[38;5;129;01mnot\u001b[39;00m \u001b[38;5;28mself\u001b[39m\u001b[38;5;241m.\u001b[39m_allow_stdin:\n\u001b[0;32m   1172\u001b[0m     \u001b[38;5;28;01mraise\u001b[39;00m StdinNotImplementedError(\n\u001b[0;32m   1173\u001b[0m         \u001b[38;5;124m\"\u001b[39m\u001b[38;5;124mraw_input was called, but this frontend does not support input requests.\u001b[39m\u001b[38;5;124m\"\u001b[39m\n\u001b[0;32m   1174\u001b[0m     )\n\u001b[1;32m-> 1175\u001b[0m \u001b[38;5;28;01mreturn\u001b[39;00m \u001b[38;5;28;43mself\u001b[39;49m\u001b[38;5;241;43m.\u001b[39;49m\u001b[43m_input_request\u001b[49m\u001b[43m(\u001b[49m\n\u001b[0;32m   1176\u001b[0m \u001b[43m    \u001b[49m\u001b[38;5;28;43mstr\u001b[39;49m\u001b[43m(\u001b[49m\u001b[43mprompt\u001b[49m\u001b[43m)\u001b[49m\u001b[43m,\u001b[49m\n\u001b[0;32m   1177\u001b[0m \u001b[43m    \u001b[49m\u001b[38;5;28;43mself\u001b[39;49m\u001b[38;5;241;43m.\u001b[39;49m\u001b[43m_parent_ident\u001b[49m\u001b[43m[\u001b[49m\u001b[38;5;124;43m\"\u001b[39;49m\u001b[38;5;124;43mshell\u001b[39;49m\u001b[38;5;124;43m\"\u001b[39;49m\u001b[43m]\u001b[49m\u001b[43m,\u001b[49m\n\u001b[0;32m   1178\u001b[0m \u001b[43m    \u001b[49m\u001b[38;5;28;43mself\u001b[39;49m\u001b[38;5;241;43m.\u001b[39;49m\u001b[43mget_parent\u001b[49m\u001b[43m(\u001b[49m\u001b[38;5;124;43m\"\u001b[39;49m\u001b[38;5;124;43mshell\u001b[39;49m\u001b[38;5;124;43m\"\u001b[39;49m\u001b[43m)\u001b[49m\u001b[43m,\u001b[49m\n\u001b[0;32m   1179\u001b[0m \u001b[43m    \u001b[49m\u001b[43mpassword\u001b[49m\u001b[38;5;241;43m=\u001b[39;49m\u001b[38;5;28;43;01mFalse\u001b[39;49;00m\u001b[43m,\u001b[49m\n\u001b[0;32m   1180\u001b[0m \u001b[43m\u001b[49m\u001b[43m)\u001b[49m\n",
      "File \u001b[1;32mC:\\ProgramData\\anaconda3\\lib\\site-packages\\ipykernel\\kernelbase.py:1217\u001b[0m, in \u001b[0;36mKernel._input_request\u001b[1;34m(self, prompt, ident, parent, password)\u001b[0m\n\u001b[0;32m   1214\u001b[0m             \u001b[38;5;28;01mbreak\u001b[39;00m\n\u001b[0;32m   1215\u001b[0m \u001b[38;5;28;01mexcept\u001b[39;00m \u001b[38;5;167;01mKeyboardInterrupt\u001b[39;00m:\n\u001b[0;32m   1216\u001b[0m     \u001b[38;5;66;03m# re-raise KeyboardInterrupt, to truncate traceback\u001b[39;00m\n\u001b[1;32m-> 1217\u001b[0m     \u001b[38;5;28;01mraise\u001b[39;00m \u001b[38;5;167;01mKeyboardInterrupt\u001b[39;00m(\u001b[38;5;124m\"\u001b[39m\u001b[38;5;124mInterrupted by user\u001b[39m\u001b[38;5;124m\"\u001b[39m) \u001b[38;5;28;01mfrom\u001b[39;00m \u001b[38;5;28mNone\u001b[39m\n\u001b[0;32m   1218\u001b[0m \u001b[38;5;28;01mexcept\u001b[39;00m \u001b[38;5;167;01mException\u001b[39;00m:\n\u001b[0;32m   1219\u001b[0m     \u001b[38;5;28mself\u001b[39m\u001b[38;5;241m.\u001b[39mlog\u001b[38;5;241m.\u001b[39mwarning(\u001b[38;5;124m\"\u001b[39m\u001b[38;5;124mInvalid Message:\u001b[39m\u001b[38;5;124m\"\u001b[39m, exc_info\u001b[38;5;241m=\u001b[39m\u001b[38;5;28;01mTrue\u001b[39;00m)\n",
      "\u001b[1;31mKeyboardInterrupt\u001b[0m: Interrupted by user"
     ]
    }
   ],
   "source": [
    "# 연습문제 \n",
    "\n",
    "while True:\n",
    "    computer=int(input(\"저장될 숫자를 입력하세요. : \"))\n",
    "    for i in range(10):\n",
    "        player=int(input(\"정답 숫자를 입력하세요 : \"))\n",
    "        if computer>player:\n",
    "            print(\"업\")\n",
    "        elif computer<player:\n",
    "            print(\"다운\")\n",
    "        elif computer==player:\n",
    "            print(\"정답입니다.\")\n",
    "            break\n",
    "    if i == 9:\n",
    "        print(\"실패입니다.\")"
   ]
  },
  {
   "cell_type": "markdown",
   "metadata": {},
   "source": [
    "### 연습문제\n",
    ">간단한 ATM기 시스템을 만들어보겠습니다.\n",
    "\n",
    ">>사용자로부터 메뉴를 입력받습니다.\n",
    ">> 1. 입금\n",
    ">> 2. 출금\n",
    ">> 3. 잔액확인\n",
    ">> 4. 종료\n",
    "\n",
    ">입력받은 메뉴에 따라 계좌잔액에 입금과 출금을 적용하고 잔액을 출력해봅시다.\n",
    "종료메뉴는 while 문을 빠져나오도록 프로그램을 종료시킵니다."
   ]
  },
  {
   "cell_type": "code",
   "execution_count": null,
   "metadata": {
    "ExecuteTime": {
     "end_time": "2021-08-03T05:14:03.847339Z",
     "start_time": "2021-08-03T05:14:03.844455Z"
    }
   },
   "outputs": [],
   "source": [
    "# 연습문제 \n",
    "\n",
    "def atm():\n",
    "    bal=0 # 내 계좌의 현재 잔액 \n",
    "    while True:\n",
    "        msg = '''\n",
    "        안녕하세요. AI 은행입니다.  원하시는 서비스 메뉴를 입력 해주세요. \n",
    "        1. 입금\n",
    "        2. 출금\n",
    "        3. 잔액확인\n",
    "        4. 종료\n",
    "        '''\n",
    "        print(msg)\n",
    "\n",
    "        menu=int(input('원하시는 서비스 메뉴를 숫자로 입력 해주세요. : '))\n",
    "\n",
    "        if menu ==1 :\n",
    "            saving=int(input('입금하실 금액을 입력해주세요. : '))\n",
    "            balance=balance+saving\n",
    "        elif menu ==2:\n",
    "            withdrow=int(input('출금하실 금액을 입력해주세요. : '))\n",
    "            balance=balance-withdrow\n",
    "        elif menu == 3:\n",
    "            print(f'계좌잔액은 {balance}원 입니다.')\n",
    "        elif menu == 4:\n",
    "            print('이용해 주셔서 감사합니다.')\n",
    "            break\n",
    "        else:\n",
    "            print('메뉴입력이 잘못되었습니다. 메뉴를 다시 선택해주세요.')"
   ]
  },
  {
   "cell_type": "code",
   "execution_count": 38,
   "metadata": {},
   "outputs": [
    {
     "ename": "SyntaxError",
     "evalue": "invalid syntax (547163525.py, line 48)",
     "output_type": "error",
     "traceback": [
      "\u001b[1;36m  Cell \u001b[1;32mIn[38], line 48\u001b[1;36m\u001b[0m\n\u001b[1;33m    elif whithdrow < bal :\u001b[0m\n\u001b[1;37m    ^\u001b[0m\n\u001b[1;31mSyntaxError\u001b[0m\u001b[1;31m:\u001b[0m invalid syntax\n"
     ]
    }
   ],
   "source": [
    "    bal=0 # 내 계좌의 현재 잔액 \n",
    "    while True:\n",
    "        msg = '''\n",
    "        -----------------------------------------------------------------\n",
    "        안녕하세요. AI 은행입니다.  원하시는 서비스 메뉴를 입력 해주세요. \n",
    "        1. 입금\n",
    "        2. 출금\n",
    "        3. 잔액확인\n",
    "        4. 종료\n",
    "        -----------------------------------------------------------------\n",
    "        '''\n",
    "        print(msg)\n",
    "\n",
    "        menu=int(input('원하시는 서비스 메뉴를 숫자로 입력 해주세요. : '))\n",
    "        \n",
    "        if menu == 1 :\n",
    "            msg2 = '''\n",
    "            1. 카드입금\n",
    "            2. 무통장입금\n",
    "            '''\n",
    "            print(msg2)\n",
    "            menu2=int(input('카드 및 무통장입금 방법을 선택해주세요. : '))\n",
    "            \n",
    "            if menu2 == 1:\n",
    "                print('카드를 카드투입구에 삽입 해주세요.')\n",
    "            elif menu2 == 2:\n",
    "                print('입금하실 통장을 통장투입구에 넣어주세요.')\n",
    "            \n",
    "            while True:\n",
    "            \n",
    "                saving = int(input('입금하실 금액을 입력해주세요. : '))\n",
    "                bal=bal+saving\n",
    "\n",
    "                print(f'귀하 계좌의 현재 잔액은 {bal}입니다.')\n",
    "            \n",
    "                menu3= input('연속입금 하시겠습니까? 예, 아니오로 입력해주세요')\n",
    "                if menu3 == '예':\n",
    "                    pass\n",
    "                elif menu3 == '아니오':\n",
    "                    break\n",
    "\n",
    "                                \n",
    "        elif menu ==2:\n",
    "            withdrow=int(input('출금하실 금액을 입력해주세요. : '))\n",
    "            if withdrow > bal : \n",
    "                print(\"계좌 잔액이 부족합니다. 계좌 잔액 확인 후 다시 거래 해주세요. \")\n",
    "            pass\n",
    "            elif whithdrow < bal : \n",
    "                balance -= withdrow\n",
    "                print(f\"출금이 완료되었습니다. 현재 계좌의 잔액은 {bal}입니다. \")\n",
    "            \n",
    "        elif menu == 3:\n",
    "            print(f'현재 계좌의 잔액은 {bal}원 입니다.')\n",
    "        \n",
    "        elif menu == 4:\n",
    "            print('이용해 주셔서 감사합니다.')\n",
    "            break\n",
    "        \n",
    "        else:\n",
    "            print('메뉴입력이 잘못되었습니다. 메뉴를 다시 선택해주세요.')"
   ]
  },
  {
   "cell_type": "markdown",
   "metadata": {},
   "source": [
    "## **try, except(오류처리 혹은 예외처리)**\n",
    ">**`try`**, **`except`** 구문은 오류 발생가능성이 있는 구문을 처리하거나  \n",
    "반드시 오류가 발생하는 구문을 감싸 정상적인 프로그램 흐름이 이어질 수 있도록 처리하는 예외처리 구문입니다.\n",
    "\n",
    "```python\n",
    "try:\n",
    "    처리하고 싶은 코드\n",
    "    \n",
    "except 오류명:\n",
    "    try로 처리하지 못한 작업을 처리하기 위한 코드\n",
    "```"
   ]
  },
  {
   "cell_type": "code",
   "execution_count": 18,
   "metadata": {
    "ExecuteTime": {
     "end_time": "2021-04-21T11:58:00.463575Z",
     "start_time": "2021-04-21T11:58:00.368854Z"
    }
   },
   "outputs": [
    {
     "ename": "NameError",
     "evalue": "name 'name_name' is not defined",
     "output_type": "error",
     "traceback": [
      "\u001b[1;31m-----------------------------------------------------------------------\u001b[0m",
      "\u001b[1;31mNameError\u001b[0m                             Traceback (most recent call last)",
      "Cell \u001b[1;32mIn[18], line 2\u001b[0m\n\u001b[0;32m      1\u001b[0m \u001b[38;5;66;03m# 정의되지 않은 변수 호출\u001b[39;00m\n\u001b[1;32m----> 2\u001b[0m \u001b[43mname_name\u001b[49m\n",
      "\u001b[1;31mNameError\u001b[0m: name 'name_name' is not defined"
     ]
    }
   ],
   "source": [
    "# 정의되지 않은 변수 호출\n",
    "name_name"
   ]
  },
  {
   "cell_type": "code",
   "execution_count": 17,
   "metadata": {
    "ExecuteTime": {
     "end_time": "2021-04-21T11:58:18.573958Z",
     "start_time": "2021-04-21T11:58:18.567171Z"
    }
   },
   "outputs": [
    {
     "ename": "TypeError",
     "evalue": "unsupported operand type(s) for /: 'str' and 'int'",
     "output_type": "error",
     "traceback": [
      "\u001b[1;31m-----------------------------------------------------------------------\u001b[0m",
      "\u001b[1;31mTypeError\u001b[0m                             Traceback (most recent call last)",
      "Cell \u001b[1;32mIn[17], line 2\u001b[0m\n\u001b[0;32m      1\u001b[0m \u001b[38;5;66;03m# 연산이 불가능\u001b[39;00m\n\u001b[1;32m----> 2\u001b[0m \u001b[38;5;124;43m'\u001b[39;49m\u001b[38;5;124;43mhi\u001b[39;49m\u001b[38;5;124;43m'\u001b[39;49m\u001b[43m \u001b[49m\u001b[38;5;241;43m/\u001b[39;49m\u001b[43m \u001b[49m\u001b[38;5;241;43m10\u001b[39;49m\n",
      "\u001b[1;31mTypeError\u001b[0m: unsupported operand type(s) for /: 'str' and 'int'"
     ]
    }
   ],
   "source": [
    "# 연산이 불가능\n",
    "'hi' / 10"
   ]
  },
  {
   "cell_type": "code",
   "execution_count": 19,
   "metadata": {
    "ExecuteTime": {
     "end_time": "2021-04-21T11:58:25.947665Z",
     "start_time": "2021-04-21T11:58:25.941240Z"
    }
   },
   "outputs": [
    {
     "ename": "ZeroDivisionError",
     "evalue": "division by zero",
     "output_type": "error",
     "traceback": [
      "\u001b[1;31m-----------------------------------------------------------------------\u001b[0m",
      "\u001b[1;31mZeroDivisionError\u001b[0m                     Traceback (most recent call last)",
      "Cell \u001b[1;32mIn[19], line 2\u001b[0m\n\u001b[0;32m      1\u001b[0m \u001b[38;5;66;03m# 0으로 못나눔\u001b[39;00m\n\u001b[1;32m----> 2\u001b[0m \u001b[38;5;241;43m0\u001b[39;49m\u001b[43m \u001b[49m\u001b[38;5;241;43m/\u001b[39;49m\u001b[43m \u001b[49m\u001b[38;5;241;43m0\u001b[39;49m\n",
      "\u001b[1;31mZeroDivisionError\u001b[0m: division by zero"
     ]
    }
   ],
   "source": [
    "# 0으로 못나눔\n",
    "0 / 0"
   ]
  },
  {
   "cell_type": "code",
   "execution_count": 20,
   "metadata": {
    "ExecuteTime": {
     "end_time": "2021-04-21T11:58:38.908827Z",
     "start_time": "2021-04-21T11:58:38.901662Z"
    }
   },
   "outputs": [
    {
     "ename": "IndexError",
     "evalue": "list index out of range",
     "output_type": "error",
     "traceback": [
      "\u001b[1;31m-----------------------------------------------------------------------\u001b[0m",
      "\u001b[1;31mIndexError\u001b[0m                            Traceback (most recent call last)",
      "Cell \u001b[1;32mIn[20], line 3\u001b[0m\n\u001b[0;32m      1\u001b[0m \u001b[38;5;66;03m# 인덱스 오류\u001b[39;00m\n\u001b[0;32m      2\u001b[0m test_list \u001b[38;5;241m=\u001b[39m [\u001b[38;5;241m1\u001b[39m, \u001b[38;5;241m2\u001b[39m, \u001b[38;5;241m3\u001b[39m, \u001b[38;5;241m4\u001b[39m, \u001b[38;5;241m5\u001b[39m]\n\u001b[1;32m----> 3\u001b[0m \u001b[43mtest_list\u001b[49m\u001b[43m[\u001b[49m\u001b[38;5;241;43m5\u001b[39;49m\u001b[43m]\u001b[49m\n",
      "\u001b[1;31mIndexError\u001b[0m: list index out of range"
     ]
    }
   ],
   "source": [
    "# 인덱스 오류\n",
    "test_list = [1, 2, 3, 4, 5]\n",
    "test_list[5]"
   ]
  },
  {
   "cell_type": "markdown",
   "metadata": {
    "ExecuteTime": {
     "end_time": "2022-06-21T10:41:27.131649Z",
     "start_time": "2022-06-21T10:41:27.124848Z"
    }
   },
   "source": [
    "### 여러가지 에러를 발생시키고 이를 예외로 처리하기"
   ]
  },
  {
   "cell_type": "code",
   "execution_count": 24,
   "metadata": {
    "ExecuteTime": {
     "end_time": "2022-05-01T14:39:26.694619Z",
     "start_time": "2022-05-01T14:39:24.376546Z"
    }
   },
   "outputs": [],
   "source": [
    "# 여러가지 에러를 발생시키고 이를 예외로 처리하기\n",
    "# 리스트 순환\n",
    "try:\n",
    "    test_list2=[item / 5 for item in test_list]\n",
    "except TypeError:\n",
    "    test_list2=[float(item) / 5 for item in test_list]"
   ]
  },
  {
   "cell_type": "code",
   "execution_count": null,
   "metadata": {
    "ExecuteTime": {
     "end_time": "2022-06-21T10:43:01.932128Z",
     "start_time": "2022-06-21T10:42:58.092283Z"
    }
   },
   "outputs": [],
   "source": [
    "# 코드 실행 중 발생가능한 오류를 처리하기\n",
    "text = '''\n",
    "이 프로그램은 입력받는 숫자 다섯개의 합의 제곱을 출력하는 프로그램입니다.\n",
    "'''\n",
    "print(text)\n",
    "total = []\n",
    "for i in range(5):\n",
    "    num = input('합을 계산 할 숫자를 입력하세요 : ')\n",
    "    try:\n",
    "        num = int(num)\n",
    "    except ValueError:\n",
    "       # num= int(input(\"문자를 입력하셨습니다. 숫자를 다시 입력해주세요. : \"))\n",
    "        num = 0\n",
    "        print(\"문자열로 입력한 숫자는 계산결과에 포함되지 않습니다.\")\n",
    "    total.append(num)\n",
    "print(sum(total) ** 2)"
   ]
  },
  {
   "cell_type": "code",
   "execution_count": null,
   "metadata": {},
   "outputs": [],
   "source": []
  },
  {
   "cell_type": "code",
   "execution_count": null,
   "metadata": {},
   "outputs": [],
   "source": []
  },
  {
   "cell_type": "code",
   "execution_count": null,
   "metadata": {},
   "outputs": [],
   "source": []
  },
  {
   "cell_type": "code",
   "execution_count": null,
   "metadata": {},
   "outputs": [],
   "source": []
  },
  {
   "cell_type": "code",
   "execution_count": null,
   "metadata": {},
   "outputs": [],
   "source": []
  },
  {
   "cell_type": "code",
   "execution_count": null,
   "metadata": {},
   "outputs": [],
   "source": []
  },
  {
   "cell_type": "code",
   "execution_count": null,
   "metadata": {},
   "outputs": [],
   "source": []
  },
  {
   "cell_type": "code",
   "execution_count": null,
   "metadata": {},
   "outputs": [],
   "source": []
  },
  {
   "cell_type": "code",
   "execution_count": null,
   "metadata": {},
   "outputs": [],
   "source": []
  },
  {
   "cell_type": "code",
   "execution_count": null,
   "metadata": {},
   "outputs": [],
   "source": []
  },
  {
   "cell_type": "code",
   "execution_count": null,
   "metadata": {},
   "outputs": [],
   "source": []
  },
  {
   "cell_type": "code",
   "execution_count": null,
   "metadata": {},
   "outputs": [],
   "source": []
  },
  {
   "cell_type": "code",
   "execution_count": null,
   "metadata": {},
   "outputs": [],
   "source": []
  },
  {
   "cell_type": "code",
   "execution_count": null,
   "metadata": {},
   "outputs": [],
   "source": []
  },
  {
   "cell_type": "code",
   "execution_count": null,
   "metadata": {},
   "outputs": [],
   "source": []
  },
  {
   "cell_type": "code",
   "execution_count": null,
   "metadata": {},
   "outputs": [],
   "source": []
  },
  {
   "cell_type": "code",
   "execution_count": null,
   "metadata": {},
   "outputs": [],
   "source": []
  },
  {
   "cell_type": "code",
   "execution_count": null,
   "metadata": {},
   "outputs": [],
   "source": []
  },
  {
   "cell_type": "code",
   "execution_count": null,
   "metadata": {},
   "outputs": [],
   "source": []
  },
  {
   "cell_type": "code",
   "execution_count": null,
   "metadata": {},
   "outputs": [],
   "source": []
  },
  {
   "cell_type": "code",
   "execution_count": null,
   "metadata": {},
   "outputs": [],
   "source": []
  },
  {
   "cell_type": "code",
   "execution_count": null,
   "metadata": {},
   "outputs": [],
   "source": []
  },
  {
   "cell_type": "code",
   "execution_count": null,
   "metadata": {},
   "outputs": [],
   "source": []
  },
  {
   "cell_type": "code",
   "execution_count": null,
   "metadata": {},
   "outputs": [],
   "source": []
  },
  {
   "cell_type": "code",
   "execution_count": null,
   "metadata": {},
   "outputs": [],
   "source": []
  },
  {
   "cell_type": "code",
   "execution_count": null,
   "metadata": {},
   "outputs": [],
   "source": []
  },
  {
   "cell_type": "code",
   "execution_count": null,
   "metadata": {},
   "outputs": [],
   "source": []
  },
  {
   "cell_type": "code",
   "execution_count": null,
   "metadata": {},
   "outputs": [],
   "source": []
  },
  {
   "cell_type": "code",
   "execution_count": null,
   "metadata": {},
   "outputs": [],
   "source": []
  },
  {
   "cell_type": "code",
   "execution_count": null,
   "metadata": {},
   "outputs": [],
   "source": []
  },
  {
   "cell_type": "code",
   "execution_count": null,
   "metadata": {},
   "outputs": [],
   "source": []
  },
  {
   "cell_type": "code",
   "execution_count": null,
   "metadata": {},
   "outputs": [],
   "source": []
  },
  {
   "cell_type": "code",
   "execution_count": null,
   "metadata": {
    "ExecuteTime": {
     "end_time": "2021-04-21T04:17:36.624645Z",
     "start_time": "2021-04-21T04:17:34.606371Z"
    }
   },
   "outputs": [],
   "source": [
    "while True:\n",
    "    name = input('입력 : ')\n",
    "    if not name:\n",
    "        break"
   ]
  },
  {
   "cell_type": "code",
   "execution_count": null,
   "metadata": {},
   "outputs": [],
   "source": [
    "name = input('이름을 입력하세요 : ')\n",
    "height = input('키를 입력하세요 : ')\n",
    "height = float(height) / 100\n",
    "weight = input('몸무게를 입력하세요 : ')\n",
    "weight = float(weight)\n",
    "bmi = weight / (height * height)\n",
    "\n",
    "print(f'{name}님의 bmi 지수는 {bmi}입니다.')\n",
    "if bmi < 20:\n",
    "    print('bmi에 따라 구분한 체중은 저체중입니다.')\n",
    "elif 20 <= bmi < 24:\n",
    "    print('bmi에 따라 구분한 체중은 표준체중입니다.')\n",
    "elif 24 <= bmi < 30:\n",
    "    print('bmi에 따라 구분한 체중은 과체중입니다.')\n",
    "else:\n",
    "    print('bmi에 따라 구분한 체중은 비만입니다.')"
   ]
  },
  {
   "cell_type": "code",
   "execution_count": null,
   "metadata": {},
   "outputs": [],
   "source": [
    "total = 0\n",
    "number = input('합을 계산할 숫자(정수)를 입력해주세요 : ')\n",
    "number = int(number)\n",
    "for i in range(number+1):\n",
    "    total = total + i\n",
    "\n",
    "print(total)"
   ]
  },
  {
   "cell_type": "code",
   "execution_count": null,
   "metadata": {},
   "outputs": [],
   "source": [
    "computer = input('컴퓨터의 저장 숫자를 입력하세요 : ')\n",
    "computer = int(computer)\n",
    "for i in range(10):\n",
    "    gamer = input('컴퓨터의 숫자를 맞춰보세요 : ')\n",
    "    gamer = int(gamer)\n",
    "    if computer > gamer:\n",
    "        print('업')\n",
    "    elif computer < gamer:\n",
    "        print('다운')\n",
    "    elif computer == gamer:\n",
    "        print('정답입니다.')\n",
    "        break\n",
    "if i == 9:\n",
    "    print('실패입니다.')"
   ]
  },
  {
   "cell_type": "code",
   "execution_count": null,
   "metadata": {},
   "outputs": [],
   "source": [
    "for i in range(2, 10):\n",
    "    for j in range(1, 10):\n",
    "        print(f'{i} X {j} = {i*j}')"
   ]
  },
  {
   "cell_type": "code",
   "execution_count": 5,
   "metadata": {},
   "outputs": [
    {
     "name": "stdout",
     "output_type": "stream",
     "text": [
      "컴퓨터의 저장 숫자를 입력하세요 : \n"
     ]
    },
    {
     "ename": "ValueError",
     "evalue": "invalid literal for int() with base 10: ''",
     "output_type": "error",
     "traceback": [
      "\u001b[1;31m-----------------------------------------------------------------------\u001b[0m",
      "\u001b[1;31mValueError\u001b[0m                            Traceback (most recent call last)",
      "Cell \u001b[1;32mIn[5], line 3\u001b[0m\n\u001b[0;32m      1\u001b[0m \u001b[38;5;28;01mwhile\u001b[39;00m \u001b[38;5;28;01mTrue\u001b[39;00m:\n\u001b[0;32m      2\u001b[0m     computer \u001b[38;5;241m=\u001b[39m \u001b[38;5;28minput\u001b[39m(\u001b[38;5;124m'\u001b[39m\u001b[38;5;124m컴퓨터의 저장 숫자를 입력하세요 : \u001b[39m\u001b[38;5;124m'\u001b[39m)\n\u001b[1;32m----> 3\u001b[0m     computer \u001b[38;5;241m=\u001b[39m \u001b[38;5;28;43mint\u001b[39;49m\u001b[43m(\u001b[49m\u001b[43mcomputer\u001b[49m\u001b[43m)\u001b[49m\n\u001b[0;32m      4\u001b[0m     \u001b[38;5;28;01mfor\u001b[39;00m i \u001b[38;5;129;01min\u001b[39;00m \u001b[38;5;28mrange\u001b[39m(\u001b[38;5;241m10\u001b[39m):\n\u001b[0;32m      5\u001b[0m         gamer \u001b[38;5;241m=\u001b[39m \u001b[38;5;28minput\u001b[39m(\u001b[38;5;124m'\u001b[39m\u001b[38;5;124m컴퓨터의 숫자를 맞춰보세요 : \u001b[39m\u001b[38;5;124m'\u001b[39m)\n",
      "\u001b[1;31mValueError\u001b[0m: invalid literal for int() with base 10: ''"
     ]
    }
   ],
   "source": [
    "while True:\n",
    "    computer = input('컴퓨터의 저장 숫자를 입력하세요 : ')\n",
    "    computer = int(computer)\n",
    "    for i in range(10):\n",
    "        gamer = input('컴퓨터의 숫자를 맞춰보세요 : ')\n",
    "        gamer = int(gamer)\n",
    "        if computer > gamer:\n",
    "            print('업')\n",
    "        elif computer < gamer:\n",
    "            print('다운')\n",
    "        elif computer == gamer:\n",
    "            print('정답입니다.')\n",
    "            break\n",
    "    if i == 9:\n",
    "        print('실패입니다.')"
   ]
  },
  {
   "cell_type": "code",
   "execution_count": 6,
   "metadata": {
    "ExecuteTime": {
     "end_time": "2021-04-22T02:04:54.559176Z",
     "start_time": "2021-04-22T02:04:54.552843Z"
    }
   },
   "outputs": [],
   "source": [
    "def atm():\n",
    "    balance = 0\n",
    "    while True:\n",
    "\n",
    "        print()\n",
    "        print('어서오세요 fitror 뱅크입니다.')\n",
    "        print('원하시는 서비스 메뉴를 선택해주세요.')\n",
    "        print('---------------------------')\n",
    "        print('1. 입금')\n",
    "        print('2. 출금')\n",
    "        print('3. 잔액확인')\n",
    "        print('4. 종료')\n",
    "        print('---------------------------')\n",
    "        print()\n",
    "\n",
    "        menu = input('메뉴를 입력해주세요 : ')\n",
    "        menu = int(menu)\n",
    "        if menu == 1:\n",
    "            saving = input('입금하실 금액을 입력해주세요 : ')\n",
    "            saving = int(saving)\n",
    "            balance = balance + saving\n",
    "        elif menu == 2:\n",
    "            withdrow = input('출금하실 금액을 입력해주세요 : ')\n",
    "            withdrow = int(withdrow)\n",
    "            balance = balance - withdrow\n",
    "        elif menu == 3:\n",
    "            print(f'계좌 잔액은 {balance}원 입니다.')\n",
    "        elif menu == 4:\n",
    "            print()\n",
    "            print('이용해주셔서 감사합니다.')\n",
    "            print()\n",
    "            break\n",
    "        else:\n",
    "            print('메뉴입력이 잘못 되었습니다. 메뉴를 다시 선택해주세요.')"
   ]
  },
  {
   "cell_type": "code",
   "execution_count": null,
   "metadata": {},
   "outputs": [],
   "source": [
    "try:\n",
    "    atm()\n",
    "except (ValueError, IndexError):\n",
    "    pass"
   ]
  },
  {
   "cell_type": "code",
   "execution_count": null,
   "metadata": {},
   "outputs": [],
   "source": []
  }
 ],
 "metadata": {
  "kernelspec": {
   "display_name": "Python 3 (ipykernel)",
   "language": "python",
   "name": "python3"
  },
  "language_info": {
   "codemirror_mode": {
    "name": "ipython",
    "version": 3
   },
   "file_extension": ".py",
   "mimetype": "text/x-python",
   "name": "python",
   "nbconvert_exporter": "python",
   "pygments_lexer": "ipython3",
   "version": "3.10.9"
  },
  "toc": {
   "base_numbering": 1,
   "nav_menu": {},
   "number_sections": true,
   "sideBar": true,
   "skip_h1_title": true,
   "title_cell": "Table of Contents",
   "title_sidebar": "Contents",
   "toc_cell": false,
   "toc_position": {},
   "toc_section_display": true,
   "toc_window_display": false
  },
  "varInspector": {
   "cols": {
    "lenName": 16,
    "lenType": 16,
    "lenVar": 40
   },
   "kernels_config": {
    "python": {
     "delete_cmd_postfix": "",
     "delete_cmd_prefix": "del ",
     "library": "var_list.py",
     "varRefreshCmd": "print(var_dic_list())"
    },
    "r": {
     "delete_cmd_postfix": ") ",
     "delete_cmd_prefix": "rm(",
     "library": "var_list.r",
     "varRefreshCmd": "cat(var_dic_list()) "
    }
   },
   "types_to_exclude": [
    "module",
    "function",
    "builtin_function_or_method",
    "instance",
    "_Feature"
   ],
   "window_display": false
  }
 },
 "nbformat": 4,
 "nbformat_minor": 2
}
