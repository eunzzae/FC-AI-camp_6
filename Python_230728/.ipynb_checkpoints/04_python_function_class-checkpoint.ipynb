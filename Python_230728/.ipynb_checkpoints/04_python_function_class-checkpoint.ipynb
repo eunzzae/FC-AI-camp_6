{
 "cells": [
  {
   "cell_type": "markdown",
   "metadata": {},
   "source": [
    "# 함수와 클래스"
   ]
  },
  {
   "cell_type": "markdown",
   "metadata": {},
   "source": [
    "## 함수\n",
    "> 수학적 정의의 **함수**란?  \n",
    "$y$ = $f(x)$\n",
    "\n",
    "> 프로그래밍에서의 함수란?  \n",
    "자주 사용해야 하는 코드를 **재사용하기 위한 코드의 묶음**\n",
    "\n",
    "> 데이터과학에서의 함수란?  \n",
    "입력값을 받아 사용자가 원하는 처리를 한 후 결과값을 되돌려 받는 코드의 묶음"
   ]
  },
  {
   "cell_type": "markdown",
   "metadata": {},
   "source": [
    "### 함수의 구조\n",
    "```python\n",
    "def 함수이름(파라메터 혹은 매개변수): # 함수이름을 메모리에 저장, 파라메터는 없어도 가능\n",
    "    \n",
    "    실행코드 # 함수이름을 호출하면 실행코드가 위에서 아래로 실행\n",
    "    실행코드 # 보통 기능단위로 코드로 묶어 함수화 한다.\n",
    "    실행코드 # 실제로는 코드가 메모리에 저장되는 구조를 갖는다.\n",
    "    \n",
    "    return 반환값 # 함수에서 실행코드를 거친 결과값을 다시 사용해야 할 경우 값을 반환시킨다.\n",
    "```"
   ]
  },
  {
   "cell_type": "markdown",
   "metadata": {},
   "source": [
    "> - 파라메터 혹은 매개변수 : 함수의 입력값, 혹은 함수의 작동에 영향을 줄 수 있는 값(변수)  \n",
    "> - 파라메터는 없어도 되지만 세미콜론은 반드시 찍어준다."
   ]
  },
  {
   "cell_type": "markdown",
   "metadata": {},
   "source": [
    "### 기본적인 함수"
   ]
  },
  {
   "cell_type": "code",
   "execution_count": 1,
   "metadata": {
    "ExecuteTime": {
     "end_time": "2021-04-06T11:44:26.995253Z",
     "start_time": "2021-04-06T11:44:26.992645Z"
    }
   },
   "outputs": [],
   "source": [
    "# 함수 정의하기\n",
    "# 함수명 person을 정의한다(디파인한다)\n",
    "\n",
    "def person(): # person이라는 이름값을 앞으로는 내가 정의하는 기능명으로 사용하겠다. \n",
    "    print('제 이름은 Amy입니다.')\n",
    "    \n",
    "# 함수 호출 시 실행 될 구문"
   ]
  },
  {
   "cell_type": "markdown",
   "metadata": {},
   "source": [
    "### 함수의 호출(사용)"
   ]
  },
  {
   "cell_type": "code",
   "execution_count": 3,
   "metadata": {
    "ExecuteTime": {
     "end_time": "2021-04-06T11:45:14.546457Z",
     "start_time": "2021-04-06T11:45:14.543296Z"
    }
   },
   "outputs": [
    {
     "name": "stdout",
     "output_type": "stream",
     "text": [
      "제 이름은 Amy입니다.\n"
     ]
    }
   ],
   "source": [
    "# 함수호출 테스트\n",
    "person()"
   ]
  },
  {
   "cell_type": "markdown",
   "metadata": {},
   "source": [
    "### 입력값(파라메터 혹은 매개변수)을 받는 함수"
   ]
  },
  {
   "cell_type": "code",
   "execution_count": 4,
   "metadata": {
    "ExecuteTime": {
     "end_time": "2021-04-06T11:47:51.132917Z",
     "start_time": "2021-04-06T11:47:51.130166Z"
    }
   },
   "outputs": [],
   "source": [
    "# 파라메터가 있는 함수 정의\n",
    "# 함수명 person_name을 정의하면서 동시에 파라메터인 name에 'Eddy'라는 문자열을 전달한다.\n",
    "\n",
    "def person_name(x): # person_name이라는 이름값을 앞으로는 내가 정의하는 기능명으로 사용하겠다. \n",
    "    print(f'제 이름은 {x}입니다.')\n",
    "    \n",
    "# 함수 호출 시 실행 될 구문\n"
   ]
  },
  {
   "cell_type": "code",
   "execution_count": 8,
   "metadata": {
    "ExecuteTime": {
     "end_time": "2021-04-06T11:47:51.555089Z",
     "start_time": "2021-04-06T11:47:51.551936Z"
    }
   },
   "outputs": [
    {
     "name": "stdout",
     "output_type": "stream",
     "text": [
      "제 이름은 Amy입니다.\n"
     ]
    }
   ],
   "source": [
    "# 함수 호출\n",
    "# 만약 파라메터가 전달되지 않는다면?\n",
    "# 입력결과에 따라 입력값이 달라진다!!!\n",
    "person_name('Amy')"
   ]
  },
  {
   "cell_type": "markdown",
   "metadata": {},
   "source": [
    "### 함수 내 변수의 사용"
   ]
  },
  {
   "cell_type": "code",
   "execution_count": 18,
   "metadata": {
    "ExecuteTime": {
     "end_time": "2021-04-06T11:57:09.196985Z",
     "start_time": "2021-04-06T11:57:09.194073Z"
    }
   },
   "outputs": [],
   "source": [
    "# 함수 밖 변수 전역변수, 글로벌변수라고 하며 어디든 사용가능\n",
    "\n",
    "def person_name(x): # person_name이라는 이름값을 앞으로는 내가 정의하는 기능명으로 사용하겠다. \n",
    "    add='서울시 영등포구'\n",
    "    age=28\n",
    "    print(f'제 이름은 {x}입니다.') # 파라메터 (입력값) \n",
    "    print(f'제 친구의 이름은 {name}입니다.') # 함수 밖에서 정의된 변수\n",
    "    print(f'제가 사는 곳은 {add}입니다.') # 함수 내부에서 정의된 변수 \n",
    "    print(f'제 나이는 {age}입니다.') # 함수 내부에서 정의된 변수\n",
    "\n",
    "    \n",
    "# 함수정의\n",
    "\n",
    "# 함수실행 코드\n"
   ]
  },
  {
   "cell_type": "code",
   "execution_count": 20,
   "metadata": {},
   "outputs": [],
   "source": [
    "def person_age(x):\n",
    "    add=25646\n",
    "    age=4568\n",
    "    print(add, age)"
   ]
  },
  {
   "cell_type": "code",
   "execution_count": 21,
   "metadata": {},
   "outputs": [
    {
     "name": "stdout",
     "output_type": "stream",
     "text": [
      "25646 4568\n"
     ]
    }
   ],
   "source": [
    "person_age('Eddy')"
   ]
  },
  {
   "cell_type": "code",
   "execution_count": 19,
   "metadata": {
    "ExecuteTime": {
     "end_time": "2021-04-06T11:57:10.837475Z",
     "start_time": "2021-04-06T11:57:10.834774Z"
    }
   },
   "outputs": [
    {
     "name": "stdout",
     "output_type": "stream",
     "text": [
      "제 이름은 Amy입니다.\n",
      "제 친구의 이름은 김수영입니다.\n",
      "제가 사는 곳은 서울시 영등포구입니다.\n",
      "제 나이는 28입니다.\n"
     ]
    }
   ],
   "source": [
    "# 함수 호출\n",
    "name='김수영'\n",
    "\n",
    "person_name('Amy')"
   ]
  },
  {
   "cell_type": "code",
   "execution_count": null,
   "metadata": {
    "ExecuteTime": {
     "end_time": "2021-04-06T11:59:28.725748Z",
     "start_time": "2021-04-06T11:59:28.723073Z"
    }
   },
   "outputs": [],
   "source": [
    "# 그렇다면 함수 내부에서 정의 된 변수는 어떨까?\n"
   ]
  },
  {
   "cell_type": "markdown",
   "metadata": {},
   "source": [
    "#### 함수 안에서 정의 된 변수??\n",
    ">함수 내부에서 정의 된 age 변수는 함수 내부에서만 정의되는 변수로서 함수 밖에서는 호출할 수 없다.  \n",
    "그렇기에 다른 함수에서 같은 이름의 변수를 사용해도 관계없음  \n",
    "함수 연산 결과로서 결과값을 빼기 위해서는 반드시 **`return`**구문으로 반환값을 사용해줘야 함  \n",
    "\n",
    "함수도 기본컴퓨터의 작동프로세스와 같이 입력, 처리, 출력의 처리를 하기위한 구조를 가짐"
   ]
  },
  {
   "cell_type": "code",
   "execution_count": null,
   "metadata": {
    "ExecuteTime": {
     "end_time": "2021-04-06T13:09:48.171098Z",
     "start_time": "2021-04-06T13:09:48.164219Z"
    }
   },
   "outputs": [],
   "source": [
    "# 호출하려던 age변수는 위의 person_age 함수 내부에서 정의 된 변수이다.\n",
    "# 함수 내부에서 정의 된 변수는 지역변수 혹은 로컬변수라고 합니다.\n",
    "# 함수 내부에서만 사용이 가능하고 사용후에는 메모리에서 삭제 됩니다.\n"
   ]
  },
  {
   "cell_type": "code",
   "execution_count": 84,
   "metadata": {},
   "outputs": [],
   "source": [
    "# 내가 한 것\n",
    "def print_total():\n",
    "    total=[0]\n",
    "    for num in range(5):\n",
    "        num=int(input(\"더할 숫자를 입력하세요.\"))\n",
    "        total.append(num)\n",
    "    return print(f\"숫자의 총 합은 {sum(total)} 입니다.\")\n"
   ]
  },
  {
   "cell_type": "code",
   "execution_count": 85,
   "metadata": {},
   "outputs": [
    {
     "name": "stdout",
     "output_type": "stream",
     "text": [
      "더할 숫자를 입력하세요.53\n",
      "더할 숫자를 입력하세요.4\n",
      "더할 숫자를 입력하세요.42\n",
      "더할 숫자를 입력하세요.5\n",
      "더할 숫자를 입력하세요.4\n",
      "숫자의 총 합은 108 입니다.\n"
     ]
    }
   ],
   "source": [
    "# 함수호출\n",
    "print_total()"
   ]
  },
  {
   "cell_type": "code",
   "execution_count": 82,
   "metadata": {},
   "outputs": [],
   "source": [
    "# 강사님\n",
    "def make_sum(x): # e.g. 갯수가 정해지지 않은 숫자 -> x파라메터가 반복 횟수를 설정해주는 옵션 값\n",
    "    total=[]\n",
    "    for i in range(x):\n",
    "        num=int(input(\"숫자를 입력하세요. : \" ))\n",
    "        total.append(num)\n",
    "    return sum(total)"
   ]
  },
  {
   "cell_type": "code",
   "execution_count": 83,
   "metadata": {},
   "outputs": [
    {
     "name": "stdout",
     "output_type": "stream",
     "text": [
      "숫자를 입력하세요. : 6\n",
      "숫자를 입력하세요. : 4\n",
      "숫자를 입력하세요. : 25\n",
      "숫자를 입력하세요. : 1\n",
      "숫자를 입력하세요. : 43\n",
      "숫자를 입력하세요. : 4\n"
     ]
    },
    {
     "data": {
      "text/plain": [
       "83"
      ]
     },
     "execution_count": 83,
     "metadata": {},
     "output_type": "execute_result"
    }
   ],
   "source": [
    "make_sum(6)"
   ]
  },
  {
   "cell_type": "markdown",
   "metadata": {},
   "source": [
    "### 반환을 사용하는 함수"
   ]
  },
  {
   "cell_type": "code",
   "execution_count": 86,
   "metadata": {
    "ExecuteTime": {
     "end_time": "2021-04-06T13:47:37.279806Z",
     "start_time": "2021-04-06T13:47:37.276792Z"
    }
   },
   "outputs": [],
   "source": [
    "# 함수 내부에서 정의 된 변수를 사용하기 위해서는 값을 반환(return) 시켜야 한다.\n",
    "# x와 y를 파라메터로 전달받는 cal_return 함수 정의\n",
    "\n",
    "def cal_return(x,y):\n",
    "    total= x+y\n",
    "    return total\n",
    "\n",
    "\n",
    "# x와 y의 합을 반환시킴\n"
   ]
  },
  {
   "cell_type": "code",
   "execution_count": 87,
   "metadata": {
    "ExecuteTime": {
     "end_time": "2021-04-06T13:48:27.850603Z",
     "start_time": "2021-04-06T13:48:27.846438Z"
    }
   },
   "outputs": [
    {
     "data": {
      "text/plain": [
       "13"
      ]
     },
     "execution_count": 87,
     "metadata": {},
     "output_type": "execute_result"
    }
   ],
   "source": [
    "# cal_return함수를 실행시켜 반환받는 값을 result 변수에 저장\n",
    "cal_return(3,10)"
   ]
  },
  {
   "cell_type": "code",
   "execution_count": null,
   "metadata": {},
   "outputs": [],
   "source": [
    "numpy, pandas"
   ]
  },
  {
   "cell_type": "code",
   "execution_count": 99,
   "metadata": {},
   "outputs": [],
   "source": [
    "# 파라메터 전달 순서?\n",
    "# argments -> 임의의 파라메터 갯수지정 X. 원하는 만큼 추가가 가능. 함수 내부에서 튜플형태로 전달받은 파라메터\n",
    "# kwargs -> 임의의 파라메터 갯수지정 X. 원하는 만큼 추가가 가능. 딕셔너리 형태로 전달받음 \n",
    "def func(x, y, *args, **kwargs): # 숫자, 문자가 정해지지 않은 파라미터\n",
    "    print(x, y)\n",
    "    print(args[1:3])\n",
    "    print(kwargs['name'])\n",
    "    \n",
    "# 함수의 확장성을 위한 파라메터 설정 "
   ]
  },
  {
   "cell_type": "code",
   "execution_count": 100,
   "metadata": {
    "scrolled": true
   },
   "outputs": [
    {
     "name": "stdout",
     "output_type": "stream",
     "text": [
      "10 20\n",
      "(40, 50)\n",
      "Amy\n"
     ]
    }
   ],
   "source": [
    "func(10,20,30, 40, 50, 60, 70, 80, name='Amy', job='CEO', age=29)"
   ]
  },
  {
   "cell_type": "code",
   "execution_count": 101,
   "metadata": {},
   "outputs": [],
   "source": [
    "import pandas as pd"
   ]
  },
  {
   "cell_type": "markdown",
   "metadata": {},
   "source": [
    "### 기존 반복 코드의 묶음"
   ]
  },
  {
   "cell_type": "code",
   "execution_count": 111,
   "metadata": {
    "scrolled": false
   },
   "outputs": [],
   "source": [
    "# 연습문제 함수로 묶어보자\n",
    "# bmi 계산기 함수형태로 묶을텐데 파라메터 함수를 제작 고민\n",
    "\n",
    "def bmi(x,y):\n",
    "    bmi=round(x/(y/100)**2,4)\n",
    "    if bmi<20:\n",
    "        print(\"저체중입니다.\")\n",
    "    elif 20<=bmi<24:\n",
    "        print(\"표준체중입니다.\")\n",
    "    elif 24<=bmi<30:\n",
    "        print(\"과체중입니다.\")\n",
    "    else:\n",
    "        print(\"비만입니다.\")\n",
    "        return bmi"
   ]
  },
  {
   "cell_type": "code",
   "execution_count": 112,
   "metadata": {},
   "outputs": [
    {
     "name": "stdout",
     "output_type": "stream",
     "text": [
      "표준체중입니다.\n"
     ]
    }
   ],
   "source": [
    "# 묶자\n",
    "result=bmi(55,160)"
   ]
  },
  {
   "cell_type": "code",
   "execution_count": 108,
   "metadata": {
    "scrolled": true
   },
   "outputs": [
    {
     "data": {
      "text/plain": [
       "21.4844"
      ]
     },
     "execution_count": 108,
     "metadata": {},
     "output_type": "execute_result"
    }
   ],
   "source": [
    "# 묶자\n",
    "result"
   ]
  },
  {
   "cell_type": "code",
   "execution_count": 110,
   "metadata": {
    "scrolled": true
   },
   "outputs": [
    {
     "name": "stdout",
     "output_type": "stream",
     "text": [
      "체중을 입력해 주세요 - 55\n",
      "키를 입력해 주세요 - 160\n",
      "bmi - 21은 표준체중입니다.\n"
     ]
    }
   ],
   "source": [
    "# 김동억님 코드\n",
    "def descript_bmi(bmi):\n",
    "    if bmi < 20:\n",
    "        print(f\"bmi - {bmi}은 저체중입니다.\")\n",
    "    elif bmi < 24:\n",
    "        print(f\"bmi - {bmi}은 표준체중입니다.\")\n",
    "    elif bmi < 30:\n",
    "        print(f\"bmi - {bmi}은 과체중입니다.\")\n",
    "    else:\n",
    "        print(f\"bmi - {bmi}은 비만입니다.\")\n",
    "\n",
    "\n",
    "def bmi(weight, height):\n",
    "    return int(weight / pow(height / 100, 2))\n",
    "\n",
    "weight = float(input(\"체중을 입력해 주세요 - \"))\n",
    "height = float(input(\"키를 입력해 주세요 - \"))\n",
    "bmi = bmi(weight,height)\n",
    "descript_bmi(bmi)"
   ]
  },
  {
   "cell_type": "markdown",
   "metadata": {},
   "source": [
    "### 조금은 쓸모있는 함수를 만들어보자"
   ]
  },
  {
   "cell_type": "code",
   "execution_count": 114,
   "metadata": {
    "ExecuteTime": {
     "end_time": "2021-04-06T13:49:57.509974Z",
     "start_time": "2021-04-06T13:49:57.506795Z"
    }
   },
   "outputs": [],
   "source": [
    "def input_data(x):\n",
    "    a = input(f'{x}을(를) 입력하세요. : ')\n",
    "    try:\n",
    "        a = int(a) #예외처리를 통해 정수변환을 해봅니다. \n",
    "    except:\n",
    "        pass # 아무작업도 하지말고 그대로 놔둠\n",
    "    \n",
    "    return a"
   ]
  },
  {
   "cell_type": "code",
   "execution_count": 115,
   "metadata": {
    "ExecuteTime": {
     "end_time": "2021-04-06T13:50:20.907902Z",
     "start_time": "2021-04-06T13:50:05.657894Z"
    }
   },
   "outputs": [
    {
     "name": "stdout",
     "output_type": "stream",
     "text": [
      "숫자을(를) 입력하세요. : 1000\n"
     ]
    },
    {
     "data": {
      "text/plain": [
       "1000"
      ]
     },
     "execution_count": 115,
     "metadata": {},
     "output_type": "execute_result"
    }
   ],
   "source": [
    "name = input_data('숫자')\n",
    "name"
   ]
  },
  {
   "cell_type": "markdown",
   "metadata": {},
   "source": [
    "### 지금까지 우리가 알게 모르게 사용해왔던 함수들\n",
    "```python\n",
    "print() \n",
    "int()\n",
    "str()\n",
    "float()  \n",
    "input()  \n",
    "list()  \n",
    "dict()  \n",
    "range()  \n",
    "list.append()\n",
    "```\n",
    "\n",
    "지금까지는 명령어라고 명칭했지만 앞으로는 함수라고 쓰겠습니다! 우리는 배운 사람들이니까요"
   ]
  },
  {
   "cell_type": "markdown",
   "metadata": {},
   "source": [
    "### 심플한 계산기를 만들어봅시다"
   ]
  },
  {
   "cell_type": "code",
   "execution_count": 131,
   "metadata": {},
   "outputs": [],
   "source": [
    "# 덧셈\n",
    "def cal_sum(x, y):\n",
    "    return x+y"
   ]
  },
  {
   "cell_type": "code",
   "execution_count": 127,
   "metadata": {},
   "outputs": [],
   "source": [
    "# 뺄셈\n",
    "def cal_sub(x,y):\n",
    "    return x-y"
   ]
  },
  {
   "cell_type": "code",
   "execution_count": 128,
   "metadata": {},
   "outputs": [],
   "source": [
    "# 곱셈\n",
    "def cal_mul(x,y):\n",
    "    return x*y"
   ]
  },
  {
   "cell_type": "code",
   "execution_count": 129,
   "metadata": {},
   "outputs": [],
   "source": [
    "# 나눗셈\n",
    "def cal_div(x,y):\n",
    "    return x/y"
   ]
  },
  {
   "cell_type": "code",
   "execution_count": 133,
   "metadata": {},
   "outputs": [
    {
     "data": {
      "text/plain": [
       "9"
      ]
     },
     "execution_count": 133,
     "metadata": {},
     "output_type": "execute_result"
    }
   ],
   "source": [
    "# 덧셈 함수 호출\n",
    "cal_sum(4,5)"
   ]
  },
  {
   "cell_type": "code",
   "execution_count": null,
   "metadata": {},
   "outputs": [],
   "source": [
    "# 결과값을 바로 변수로 정의할 수 있음\n"
   ]
  },
  {
   "cell_type": "markdown",
   "metadata": {},
   "source": [
    "### python 예약어로 지정 된 함수를 쪼개봅시다\n",
    ">`sum()` 함수는 python 언어에 내장되어 있는 함수입니다.  \n",
    "파라메터로 iterable 변수 즉, 반복문으로 내부 인자의 루프를 돌 수 있는 변수를 받습니다.  \n",
    "그리고 그 인자의 합을 출력하는 함수입니다.  \n",
    "\n",
    "> `max()` 함수도 python 내장 함수로서 `sum()`과 같은 형식의 입력값을 받아 최대값을 반환하는 함수입니다.  \n",
    "함수를 쪼개봅시다  "
   ]
  },
  {
   "cell_type": "code",
   "execution_count": 173,
   "metadata": {
    "ExecuteTime": {
     "end_time": "2021-04-06T13:56:51.373168Z",
     "start_time": "2021-04-06T13:56:51.370332Z"
    }
   },
   "outputs": [],
   "source": [
    "test_list = [i for i in range(10)]"
   ]
  },
  {
   "cell_type": "code",
   "execution_count": 174,
   "metadata": {
    "ExecuteTime": {
     "end_time": "2021-04-06T13:56:51.561827Z",
     "start_time": "2021-04-06T13:56:51.557970Z"
    }
   },
   "outputs": [
    {
     "data": {
      "text/plain": [
       "45"
      ]
     },
     "execution_count": 174,
     "metadata": {},
     "output_type": "execute_result"
    }
   ],
   "source": [
    "sum(test_list)"
   ]
  },
  {
   "cell_type": "code",
   "execution_count": 175,
   "metadata": {
    "ExecuteTime": {
     "end_time": "2021-04-06T13:57:57.537100Z",
     "start_time": "2021-04-06T13:57:57.533976Z"
    }
   },
   "outputs": [],
   "source": [
    "# sum_sum을 함수 이름으로 갖는 python sum() 함수를 재현해보기\n",
    "# 파라메터로 전달받는 데이터가 리스트 혹은 순서가 있는 자료구조라고 가정하기\n",
    "# sum() 안쓰기\n",
    "\n",
    "# 내가 한 코드\n",
    "\n",
    "def sum_sum(x):\n",
    "    total = 0\n",
    "    for i in x:\n",
    "        total = total + i\n",
    "    \n",
    "    return total"
   ]
  },
  {
   "cell_type": "code",
   "execution_count": 176,
   "metadata": {
    "ExecuteTime": {
     "end_time": "2021-04-06T14:06:14.219534Z",
     "start_time": "2021-04-06T14:06:14.215707Z"
    }
   },
   "outputs": [
    {
     "data": {
      "text/plain": [
       "45"
      ]
     },
     "execution_count": 176,
     "metadata": {},
     "output_type": "execute_result"
    }
   ],
   "source": [
    "sum_sum(test_list)"
   ]
  },
  {
   "cell_type": "code",
   "execution_count": 177,
   "metadata": {},
   "outputs": [],
   "source": [
    "# 강사님 코드\n",
    "def sum_sum(x):\n",
    "    total=0\n",
    "    for i in x:\n",
    "        total +=i\n",
    "    return total"
   ]
  },
  {
   "cell_type": "code",
   "execution_count": 178,
   "metadata": {},
   "outputs": [
    {
     "data": {
      "text/plain": [
       "45"
      ]
     },
     "execution_count": 178,
     "metadata": {},
     "output_type": "execute_result"
    }
   ],
   "source": [
    "sum_sum(test_list)"
   ]
  },
  {
   "cell_type": "code",
   "execution_count": 179,
   "metadata": {
    "ExecuteTime": {
     "end_time": "2021-04-06T14:06:46.512782Z",
     "start_time": "2021-04-06T14:06:46.510136Z"
    }
   },
   "outputs": [],
   "source": [
    "# max_max를 함수 이름으로 갖는 python max() 함수를 재현해보기\n",
    "# 최대값 찾는 알고리즘 \n",
    "\n",
    "def max_max(x):\n",
    "    high = 0\n",
    "    for i in x:\n",
    "        if i > high:\n",
    "            high = i\n",
    "    \n",
    "    return high"
   ]
  },
  {
   "cell_type": "code",
   "execution_count": 180,
   "metadata": {
    "ExecuteTime": {
     "end_time": "2021-04-06T14:06:46.887520Z",
     "start_time": "2021-04-06T14:06:46.884416Z"
    }
   },
   "outputs": [
    {
     "data": {
      "text/plain": [
       "9"
      ]
     },
     "execution_count": 180,
     "metadata": {},
     "output_type": "execute_result"
    }
   ],
   "source": [
    "max_max(test_list)"
   ]
  },
  {
   "cell_type": "code",
   "execution_count": 181,
   "metadata": {},
   "outputs": [],
   "source": [
    "# 강사님 코드\n",
    "def max_max(x):\n",
    "    max_num = 0 # 결과값으로 빼야 할 데이터 최대값이면 요 변수에 값을 저장\n",
    "    for i in x: # 전체 구간을 순환하면서 원소를 할당하고, \n",
    "        print(max_num, i)\n",
    "        if i > max_num: # 최대값이 저장되어 있는 변수와 원소를 비교하고 순환되는 원소가 최대값보다 크면\n",
    "            max_num = i # 결과로 빼야할 데이터를 지금 현재 순환하는 데이터로 업데이트 \n",
    "    return max_num"
   ]
  },
  {
   "cell_type": "code",
   "execution_count": 182,
   "metadata": {
    "ExecuteTime": {
     "end_time": "2021-04-06T14:06:46.887520Z",
     "start_time": "2021-04-06T14:06:46.884416Z"
    },
    "scrolled": true
   },
   "outputs": [
    {
     "name": "stdout",
     "output_type": "stream",
     "text": [
      "0 0\n",
      "0 1\n",
      "1 2\n",
      "2 3\n",
      "3 4\n",
      "4 5\n",
      "5 6\n",
      "6 7\n",
      "7 8\n",
      "8 9\n"
     ]
    },
    {
     "data": {
      "text/plain": [
       "9"
      ]
     },
     "execution_count": 182,
     "metadata": {},
     "output_type": "execute_result"
    }
   ],
   "source": [
    "max_max(test_list)"
   ]
  },
  {
   "cell_type": "code",
   "execution_count": 193,
   "metadata": {},
   "outputs": [],
   "source": [
    "def max_max2(x):\n",
    "        x.sort()\n",
    "        return x[-1]"
   ]
  },
  {
   "cell_type": "code",
   "execution_count": 194,
   "metadata": {},
   "outputs": [
    {
     "data": {
      "text/plain": [
       "9"
      ]
     },
     "execution_count": 194,
     "metadata": {},
     "output_type": "execute_result"
    }
   ],
   "source": [
    "max_max2(test_list)"
   ]
  },
  {
   "cell_type": "markdown",
   "metadata": {},
   "source": [
    "## 클래스\n",
    ">위에서 만든 계산기 함수를 살펴봅시다.  \n",
    "구조가 같은 함수가 여러개 반환값이 같은 연산만 다른 함수가 있다.  \n",
    "조금 간편하게 함수를 만들 수 없을까?  \n",
    "\n",
    ">**클래스**란?  \n",
    "같은 목적 혹은 대상을 위해 만들어진 **함수들의 묶음**"
   ]
  },
  {
   "cell_type": "markdown",
   "metadata": {},
   "source": [
    "### 클래스의 구조\n",
    "```python\n",
    "class 클래스명: # 클래스 이름을 선언(저장), 앞으로 해당 이름은 클래스로 지정함\n",
    "    \n",
    "    def __init__(self, x): # 클래스 내부에 속한 함수임을 표현하기 위해 self 키워드를 파라메터에 추가\n",
    "        # 클래스를 만들면서 입력받는 파라메터를 클래스 내에서 사용가능 하도록 초기화\n",
    "        self.x = x \n",
    "        # 변수 x는 클래스가 만들어지며 전달받는 파라메터\n",
    "        # self.x는 파라메터를 전달받아 클래스 내부에서 사용가능한 형태로 초기화한 변수\n",
    "        \n",
    "    def 함수명(self, 파라메터): # 클래스 내부에 속한 함수임을 표현하기 위해 self 키워드를 파라메터에 추가\n",
    "        실행코드\n",
    "        실행코드\n",
    "        실행코드\n",
    "        return 반환값\n",
    "```"
   ]
  },
  {
   "cell_type": "markdown",
   "metadata": {},
   "source": [
    "> - 클래스의 선언은 함수와 달리 소괄호없이 선언한다.  \n",
    "> - 클래스명은 단어의 첫 알파벳을 대문자로 ex) MyClass, SumTotal  \n",
    "> - 클래스 선언이후 처음 작성하는 **`__init__`** 함수는  \n",
    "> - 클래스가 정의되면서 입력되는 파라메터를 저장하고 재사용하기 위한 초기화함수  \n",
    "> - 클래스 내 함수의 파라메터 맨 앞은 항상 **`self`** 를 추가해주어야 하며,  \n",
    "> - **`__init__`** 함수에서 설정한 변수 할당시에도 **`self`** 를 추가해준다.  \n",
    "> - **`self.`** 변수는 클래스 내부에서 사용되며 클래스 내부에 있는 모든 함수에 사용이 가능하다.  "
   ]
  },
  {
   "cell_type": "markdown",
   "metadata": {},
   "source": [
    "### 계산기 클래스"
   ]
  },
  {
   "cell_type": "code",
   "execution_count": 195,
   "metadata": {
    "ExecuteTime": {
     "end_time": "2021-04-06T14:28:26.536978Z",
     "start_time": "2021-04-06T14:28:26.531388Z"
    }
   },
   "outputs": [],
   "source": [
    "# 클래스의 형태를 눈으로 익혀봅시다.\n",
    "class Calculator: # 클래스 선언\n",
    "    \n",
    "    def __init__(self, x, y): # 초기화함수\n",
    "        self.x = x # 클래스 내 변수 초기화\n",
    "        self.y = y\n",
    "        \n",
    "    def my_sum(self): # 함수 정의\n",
    "        z = self.x + self.y\n",
    "        return z\n",
    "\n",
    "    def my_minus(self):\n",
    "        z = self.x - self.y\n",
    "        return z\n",
    "\n",
    "    def my_multiply(self):\n",
    "        z = self.x * self.y\n",
    "        return z\n",
    "\n",
    "    def my_division(self):\n",
    "        z = self.x / self.y\n",
    "        return z"
   ]
  },
  {
   "cell_type": "code",
   "execution_count": 199,
   "metadata": {
    "ExecuteTime": {
     "end_time": "2021-04-06T14:30:20.085397Z",
     "start_time": "2021-04-06T14:30:20.082584Z"
    }
   },
   "outputs": [],
   "source": [
    "# 클래스의 호출\n",
    "# 함수를 묶는 기능으로 사용을 하기도 하지만, 객체(특정 기능을 하는)를 편하게 생성\n",
    "a = Calculator(10,50)"
   ]
  },
  {
   "cell_type": "code",
   "execution_count": 203,
   "metadata": {
    "ExecuteTime": {
     "end_time": "2021-04-06T14:30:20.223309Z",
     "start_time": "2021-04-06T14:30:20.219541Z"
    }
   },
   "outputs": [
    {
     "data": {
      "text/plain": [
       "(10, 50)"
      ]
     },
     "execution_count": 203,
     "metadata": {},
     "output_type": "execute_result"
    }
   ],
   "source": [
    "# 클래스 내 함수의 호출\n",
    "\n",
    "a.x, a.y\n",
    "a.my_sum()\n",
    "\n",
    "a.x # 클래스에 속한 내부명령어 메소드\n",
    "a.x # 클래스에 속한 속성\n",
    "a \n"
   ]
  },
  {
   "cell_type": "code",
   "execution_count": 206,
   "metadata": {},
   "outputs": [],
   "source": [
    "test_list=[1,2,3,4]\n",
    "text='안녕하세요.'"
   ]
  },
  {
   "cell_type": "code",
   "execution_count": 207,
   "metadata": {},
   "outputs": [
    {
     "data": {
      "text/plain": [
       "'안'"
      ]
     },
     "execution_count": 207,
     "metadata": {},
     "output_type": "execute_result"
    }
   ],
   "source": [
    "test_list.append(100)\n",
    "text[0]"
   ]
  },
  {
   "cell_type": "markdown",
   "metadata": {},
   "source": [
    "### 그럼 클래스와 함수는 항상 만들어 써야할까?\n",
    "> - 절대 그렇지 않습니다. 오히려 이미 만들어져있는 함수를 가져다 쓰는것을 권장합니다.  \n",
    "> - 프로그래밍 혹은 데이터분석에 필요한 수많은 함수들이 이미 만들어져 있습니다.  \n",
    "> - 함수를 학습하는 이유는 이러한 함수들을 호출하여 쓸 수 있게 하기 위함입니다.  "
   ]
  },
  {
   "cell_type": "markdown",
   "metadata": {},
   "source": [
    "### 남이 만든 클래스와 함수를 가져와보자\n",
    "**`import`** `[패키지명]`  \n",
    "**`import`** `[패키지명]` **`as`** `[닉네임]`  \n",
    "**`from`** `[패키지명]` **`import`** `[함수명]`  "
   ]
  },
  {
   "cell_type": "code",
   "execution_count": 208,
   "metadata": {
    "ExecuteTime": {
     "end_time": "2023-03-27T06:12:41.101516Z",
     "start_time": "2023-03-27T06:12:28.789882Z"
    }
   },
   "outputs": [
    {
     "name": "stdout",
     "output_type": "stream",
     "text": [
      "Defaulting to user installation because normal site-packages is not writeable\n",
      "Collecting pyttsx3\n",
      "  Downloading pyttsx3-2.90-py3-none-any.whl (39 kB)\n",
      "Collecting pypiwin32\n",
      "  Downloading pypiwin32-223-py3-none-any.whl (1.7 kB)\n",
      "Requirement already satisfied: pywin32 in c:\\programdata\\anaconda3\\lib\\site-packages (from pyttsx3) (305.1)\n",
      "Collecting comtypes\n",
      "  Downloading comtypes-1.2.0-py2.py3-none-any.whl (184 kB)\n",
      "     ------------------------------------- 184.3/184.3 kB 10.9 MB/s eta 0:00:00\n",
      "Installing collected packages: comtypes, pypiwin32, pyttsx3\n",
      "Successfully installed comtypes-1.2.0 pypiwin32-223 pyttsx3-2.90\n"
     ]
    }
   ],
   "source": [
    "# 이런것도 할 수 있어요~\n",
    "# 텍스트를 음성으로 변환시켜주는 패키지(모듈) 입니다.\n",
    "# 사용하기 전 패키지를 다운받는 과정이 필요합니다.\n",
    "!pip install pyttsx3\n",
    "import pyttsx3\n",
    "engine = pyttsx3.init()\n",
    "engine.say(\"수강생여러분.\")\n",
    "engine.say(\"파이썬 공부하느라 고생하십니다.\")\n",
    "engine.say(\"파이썬으로 이런것도 가능해요\")\n",
    "engine.say(\"하지만 이해못해도 괜챦아요.\")\n",
    "engine.say(\"왜냐하면 우리는 가져다 쓸꺼니까요. 찡긋\")\n",
    "engine.runAndWait()"
   ]
  },
  {
   "cell_type": "code",
   "execution_count": null,
   "metadata": {
    "ExecuteTime": {
     "end_time": "2021-08-04T09:12:26.095735Z",
     "start_time": "2021-08-04T09:12:25.794819Z"
    }
   },
   "outputs": [],
   "source": [
    "# random 이라는 이름을 가진 모듈을 불러오기\n",
    "import random\n",
    "\n",
    "# numpy 패키지를 불러오고 np라는 닉네임으로 사용한다\n",
    "import numpy as np\n",
    "\n",
    "# matplotlib 패키지를 불러오고 plt라는 닉네임으로 사용한다\n",
    "import matplotlib.pyplot as plt\n",
    "\n",
    "# seaborn 패키지를 불러오고 sns라는 닉네임으로 사용한다\n",
    "import seaborn as sns\n",
    "\n",
    "# pandas 패키지를 불러오고 pd라는 닉네임으로 사용한다\n",
    "import pandas as pd\n",
    "\n",
    "# 방금 전 만든 계산기 함수 불러오기\n",
    "from cal import Calculator as cal"
   ]
  },
  {
   "cell_type": "markdown",
   "metadata": {},
   "source": [
    "### 클래스의 사용\n",
    "불러들인 클래스에는 함수들이 묶여 자리하고 있습니다. 클래스를 불러들여도 실제로 작업은 함수를 실행시켜서 작동하게 됩니다. 함수를 사용해 봅시다."
   ]
  },
  {
   "cell_type": "code",
   "execution_count": null,
   "metadata": {
    "ExecuteTime": {
     "end_time": "2021-08-04T09:12:29.363580Z",
     "start_time": "2021-08-04T09:12:29.361036Z"
    }
   },
   "outputs": [],
   "source": [
    "# mycal이름을 가진 변수에 불러들인 cal클래스를 선언한다\n",
    "# 다만 cal 클래스는 초기화 할 때 2개의 변수를 받아야 한다\n",
    "# 이름은 mycal 변수처럼 보이지만 Calculator 클래스이다.\n"
   ]
  },
  {
   "cell_type": "markdown",
   "metadata": {},
   "source": [
    "## 패키지(packages), 모듈(modules)"
   ]
  },
  {
   "cell_type": "markdown",
   "metadata": {},
   "source": [
    "### random 패키지를 사용해보자\n",
    ">**`random`** 은 파이썬 내장 패키지(모듈)입니다.  \n",
    "랜덤한 값을 생성하거나 뽑아오는데 사용합니다.\n",
    "\n",
    ">**`random`** 모듈 불러오기\n",
    "**`import`** **`random`**\n",
    "\n",
    ">`random` 모듈의 자주 사용하는 함수  \n",
    "`random` `.random()` : 0 ~ 1 사이의 실수를 하나 반환  \n",
    "`random` `.randint(a, b)` : a ~ b 사이의 정수를 하나 반환  \n",
    "`random` `.choice`(list 혹은 데이터집합) : list의 무작위 샘플하나를 반환  \n",
    "`random` `.sample`(list 혹은 데이터집합, N(샘플링 할 데이터의 갯수)) : list의 무작위 샘플  N개를 반환  \n",
    "`random` `.suffle`(list 혹은 데이터집합) : list 순서 섞기  "
   ]
  },
  {
   "cell_type": "code",
   "execution_count": null,
   "metadata": {
    "ExecuteTime": {
     "end_time": "2021-04-07T01:57:12.389471Z",
     "start_time": "2021-04-07T01:57:12.367017Z"
    }
   },
   "outputs": [],
   "source": [
    "# random 모듈 불러오기\n",
    "import random"
   ]
  },
  {
   "cell_type": "code",
   "execution_count": null,
   "metadata": {
    "ExecuteTime": {
     "end_time": "2021-04-07T01:57:12.963177Z",
     "start_time": "2021-04-07T01:57:12.953978Z"
    }
   },
   "outputs": [],
   "source": [
    "# 0 ~ 1 사이의 실수를 하나 반환\n",
    "random.random()"
   ]
  },
  {
   "cell_type": "code",
   "execution_count": null,
   "metadata": {
    "ExecuteTime": {
     "end_time": "2021-04-07T01:57:16.387222Z",
     "start_time": "2021-04-07T01:57:16.383074Z"
    }
   },
   "outputs": [],
   "source": [
    "# a ~ b 사이의 정수를 하나 반환\n",
    "random.randint(0, 10)"
   ]
  },
  {
   "cell_type": "code",
   "execution_count": null,
   "metadata": {
    "ExecuteTime": {
     "end_time": "2021-04-07T01:57:17.573899Z",
     "start_time": "2021-04-07T01:57:17.567435Z"
    }
   },
   "outputs": [],
   "source": [
    "test_list = [13, 2, 3, 45, 6, 21, 39]"
   ]
  },
  {
   "cell_type": "code",
   "execution_count": null,
   "metadata": {
    "ExecuteTime": {
     "end_time": "2021-04-07T01:57:17.817627Z",
     "start_time": "2021-04-07T01:57:17.813939Z"
    }
   },
   "outputs": [],
   "source": [
    "# list의 무작위 샘플하나를 반환\n",
    "random.choice(test_list)"
   ]
  },
  {
   "cell_type": "code",
   "execution_count": null,
   "metadata": {
    "ExecuteTime": {
     "end_time": "2021-04-07T01:57:18.440372Z",
     "start_time": "2021-04-07T01:57:18.430910Z"
    }
   },
   "outputs": [],
   "source": [
    "# list의 무작위 샘플  N개를 반환\n",
    "random.sample(test_list, 3)"
   ]
  },
  {
   "cell_type": "code",
   "execution_count": null,
   "metadata": {
    "ExecuteTime": {
     "end_time": "2021-04-07T01:57:20.802840Z",
     "start_time": "2021-04-07T01:57:20.798649Z"
    }
   },
   "outputs": [],
   "source": [
    "# list 순서 섞기\n",
    "random.shuffle(test_list)\n",
    "test_list"
   ]
  },
  {
   "cell_type": "markdown",
   "metadata": {},
   "source": [
    "### 그래서 random 모듈로 뭘 할 수 있는데요?\n",
    "# 로또 번호 생성기를 만들어 볼껍니다!!"
   ]
  },
  {
   "cell_type": "code",
   "execution_count": null,
   "metadata": {},
   "outputs": [],
   "source": [
    "# 심플하게 6개 숫자를 만들어봅시다.\n"
   ]
  },
  {
   "cell_type": "code",
   "execution_count": null,
   "metadata": {},
   "outputs": [],
   "source": [
    "# 중복숫자 제거\n",
    "# 정답은 없습니다. 각자가 구현할 수 있는 방법을 강구해서 중복숫자를 제거하고 번호 6개를 생성해 봅시다.\n"
   ]
  },
  {
   "cell_type": "code",
   "execution_count": null,
   "metadata": {},
   "outputs": [],
   "source": [
    "# 누가 로또를 하나만 사나요? 최소 5000원짜리 한세트를 사지요\n",
    "# 5세트 만들어봅시다\n"
   ]
  },
  {
   "cell_type": "markdown",
   "metadata": {},
   "source": [
    "## 연습문제 스무고개 게임 업그레이드\n",
    "    컴퓨터와 스무고개 게임을 하는 프로그램을 만들어보겠습니다.\n",
    "    random 모듈로 컴퓨터가 1 ~ 100 중 숫자를 하나 선택하게 합니다.\n",
    "    게이머에게 입력받은 숫자를 판별하여 업, 다운, 정답을 출력하는 프로그램입니다.\n",
    "    게임 횟수는 10회이며, 10회 동안 정답을 못 맞출 경우 실패 문구를 출력하도록 프로그램을 짜 보겠습니다.\n",
    "    선택) 사용자에게 최소숫자, 최대숫자를 입력받아 random으로 생성"
   ]
  },
  {
   "cell_type": "code",
   "execution_count": null,
   "metadata": {},
   "outputs": [],
   "source": [
    "# 연습문제\n"
   ]
  },
  {
   "cell_type": "code",
   "execution_count": null,
   "metadata": {},
   "outputs": [],
   "source": []
  },
  {
   "cell_type": "code",
   "execution_count": null,
   "metadata": {},
   "outputs": [],
   "source": []
  },
  {
   "cell_type": "code",
   "execution_count": null,
   "metadata": {},
   "outputs": [],
   "source": []
  },
  {
   "cell_type": "code",
   "execution_count": null,
   "metadata": {},
   "outputs": [],
   "source": []
  },
  {
   "cell_type": "code",
   "execution_count": null,
   "metadata": {},
   "outputs": [],
   "source": []
  },
  {
   "cell_type": "code",
   "execution_count": null,
   "metadata": {},
   "outputs": [],
   "source": []
  },
  {
   "cell_type": "code",
   "execution_count": null,
   "metadata": {},
   "outputs": [],
   "source": []
  },
  {
   "cell_type": "code",
   "execution_count": null,
   "metadata": {},
   "outputs": [],
   "source": []
  },
  {
   "cell_type": "code",
   "execution_count": null,
   "metadata": {},
   "outputs": [],
   "source": []
  },
  {
   "cell_type": "code",
   "execution_count": null,
   "metadata": {},
   "outputs": [],
   "source": []
  },
  {
   "cell_type": "code",
   "execution_count": null,
   "metadata": {},
   "outputs": [],
   "source": []
  },
  {
   "cell_type": "code",
   "execution_count": null,
   "metadata": {},
   "outputs": [],
   "source": []
  },
  {
   "cell_type": "code",
   "execution_count": null,
   "metadata": {},
   "outputs": [],
   "source": []
  },
  {
   "cell_type": "code",
   "execution_count": null,
   "metadata": {},
   "outputs": [],
   "source": []
  },
  {
   "cell_type": "code",
   "execution_count": null,
   "metadata": {},
   "outputs": [],
   "source": []
  },
  {
   "cell_type": "code",
   "execution_count": null,
   "metadata": {},
   "outputs": [],
   "source": []
  },
  {
   "cell_type": "code",
   "execution_count": null,
   "metadata": {},
   "outputs": [],
   "source": []
  },
  {
   "cell_type": "code",
   "execution_count": null,
   "metadata": {},
   "outputs": [],
   "source": []
  },
  {
   "cell_type": "code",
   "execution_count": null,
   "metadata": {},
   "outputs": [],
   "source": []
  },
  {
   "cell_type": "code",
   "execution_count": null,
   "metadata": {},
   "outputs": [],
   "source": []
  },
  {
   "cell_type": "code",
   "execution_count": null,
   "metadata": {},
   "outputs": [],
   "source": []
  },
  {
   "cell_type": "code",
   "execution_count": null,
   "metadata": {},
   "outputs": [],
   "source": []
  },
  {
   "cell_type": "code",
   "execution_count": null,
   "metadata": {},
   "outputs": [],
   "source": []
  },
  {
   "cell_type": "code",
   "execution_count": null,
   "metadata": {},
   "outputs": [],
   "source": []
  },
  {
   "cell_type": "code",
   "execution_count": null,
   "metadata": {},
   "outputs": [],
   "source": []
  },
  {
   "cell_type": "code",
   "execution_count": null,
   "metadata": {},
   "outputs": [],
   "source": []
  },
  {
   "cell_type": "code",
   "execution_count": null,
   "metadata": {},
   "outputs": [],
   "source": []
  },
  {
   "cell_type": "code",
   "execution_count": null,
   "metadata": {},
   "outputs": [],
   "source": []
  },
  {
   "cell_type": "code",
   "execution_count": null,
   "metadata": {},
   "outputs": [],
   "source": []
  },
  {
   "cell_type": "code",
   "execution_count": null,
   "metadata": {},
   "outputs": [],
   "source": []
  },
  {
   "cell_type": "code",
   "execution_count": null,
   "metadata": {},
   "outputs": [],
   "source": []
  },
  {
   "cell_type": "code",
   "execution_count": null,
   "metadata": {},
   "outputs": [],
   "source": []
  },
  {
   "cell_type": "code",
   "execution_count": null,
   "metadata": {},
   "outputs": [],
   "source": []
  },
  {
   "cell_type": "code",
   "execution_count": null,
   "metadata": {},
   "outputs": [],
   "source": []
  },
  {
   "cell_type": "code",
   "execution_count": null,
   "metadata": {},
   "outputs": [],
   "source": []
  },
  {
   "cell_type": "code",
   "execution_count": null,
   "metadata": {},
   "outputs": [],
   "source": []
  },
  {
   "cell_type": "code",
   "execution_count": null,
   "metadata": {},
   "outputs": [],
   "source": []
  },
  {
   "cell_type": "code",
   "execution_count": null,
   "metadata": {},
   "outputs": [],
   "source": []
  },
  {
   "cell_type": "code",
   "execution_count": null,
   "metadata": {},
   "outputs": [],
   "source": []
  },
  {
   "cell_type": "code",
   "execution_count": null,
   "metadata": {},
   "outputs": [],
   "source": []
  },
  {
   "cell_type": "code",
   "execution_count": null,
   "metadata": {},
   "outputs": [],
   "source": []
  },
  {
   "cell_type": "code",
   "execution_count": null,
   "metadata": {},
   "outputs": [],
   "source": []
  },
  {
   "cell_type": "code",
   "execution_count": null,
   "metadata": {},
   "outputs": [],
   "source": []
  },
  {
   "cell_type": "code",
   "execution_count": null,
   "metadata": {},
   "outputs": [],
   "source": []
  },
  {
   "cell_type": "code",
   "execution_count": null,
   "metadata": {},
   "outputs": [],
   "source": []
  },
  {
   "cell_type": "code",
   "execution_count": null,
   "metadata": {},
   "outputs": [],
   "source": []
  },
  {
   "cell_type": "code",
   "execution_count": null,
   "metadata": {},
   "outputs": [],
   "source": []
  },
  {
   "cell_type": "code",
   "execution_count": null,
   "metadata": {},
   "outputs": [],
   "source": [
    "def print_total():\n",
    "    total = []\n",
    "    while True:\n",
    "        num = input('숫자를 입력하세요 멈추려면 q를 입력하세요: ')\n",
    "        if (not num) or (num == 'q'):\n",
    "            break\n",
    "        num = int(num)\n",
    "        total.append(num)\n",
    "    print(sum(total))"
   ]
  },
  {
   "cell_type": "code",
   "execution_count": null,
   "metadata": {},
   "outputs": [],
   "source": [
    "def cal_sum(x, y):\n",
    "    z = x + y\n",
    "    return z\n",
    "\n",
    "def cal_minus(x, y):\n",
    "    z = x - y\n",
    "    return z\n",
    "\n",
    "def cal_multi(x, y):\n",
    "    z = x * y\n",
    "    return z\n",
    "\n",
    "def cal_divide(x, y):\n",
    "    z = x / y\n",
    "    return z1, z2"
   ]
  },
  {
   "cell_type": "code",
   "execution_count": null,
   "metadata": {},
   "outputs": [],
   "source": [
    "def sum_sum(x):\n",
    "    total = 0\n",
    "    for i in x:\n",
    "        total = total + i\n",
    "    \n",
    "    return total"
   ]
  },
  {
   "cell_type": "code",
   "execution_count": null,
   "metadata": {},
   "outputs": [],
   "source": [
    "def max_max(x):\n",
    "    high = 0\n",
    "    for i in x:\n",
    "        if i > high:\n",
    "            high = i\n",
    "    \n",
    "    return high"
   ]
  },
  {
   "cell_type": "code",
   "execution_count": null,
   "metadata": {},
   "outputs": [],
   "source": [
    "import random\n",
    "lotto = []\n",
    "for i in range(6):\n",
    "    num = random.randint(1, 45)\n",
    "    lotto.append(num)\n",
    "lotto"
   ]
  },
  {
   "cell_type": "code",
   "execution_count": null,
   "metadata": {},
   "outputs": [],
   "source": [
    "import random\n",
    "lotto = []\n",
    "while True:\n",
    "    num = random.randint(1, 45)\n",
    "    if num in lotto:\n",
    "        pass\n",
    "    else:\n",
    "        lotto.append(num)\n",
    "    if len(lotto) == 6:\n",
    "        break\n",
    "lotto"
   ]
  },
  {
   "cell_type": "code",
   "execution_count": null,
   "metadata": {},
   "outputs": [],
   "source": [
    "import random\n",
    "game = []\n",
    "for i in range(5):\n",
    "    lotto = []\n",
    "    while True:\n",
    "        num = random.randint(1, 45)\n",
    "        if num in lotto:\n",
    "            pass\n",
    "        else:\n",
    "            lotto.append(num)\n",
    "        if len(lotto) == 6:\n",
    "            break\n",
    "    game.append(lotto)\n",
    "game"
   ]
  },
  {
   "cell_type": "code",
   "execution_count": null,
   "metadata": {},
   "outputs": [],
   "source": [
    "import random\n",
    "\n",
    "# 옵션\n",
    "# a = input('게임에 사용할 가장 작은 숫자를 입력하세요 :')\n",
    "# b = input('게임에 사용할 가장 작은 큰를 입력하세요 :')\n",
    "\n",
    "computer = random.randint(0, 100) # 옵션 0, 100 대신 a, b 사용\n",
    "count = 0\n",
    "for i in range(10):\n",
    "    gamer = input('숫자를 입력하세요 : ')\n",
    "    gamer = int(gamer)\n",
    "    if computer > gamer:\n",
    "        print('업')\n",
    "    elif computer < gamer:\n",
    "        print('다운')\n",
    "    elif computer == gamer:\n",
    "        print('정답입니다.')\n",
    "        break\n",
    "    if i == 9:\n",
    "        print('실패입니다.')\n",
    "    else:\n",
    "        pass"
   ]
  },
  {
   "cell_type": "code",
   "execution_count": null,
   "metadata": {},
   "outputs": [],
   "source": [
    "# 전사와 마법사 생성후 모의전투\n",
    "# 리뷰만\n",
    "\n",
    "import numpy as np\n",
    "import random\n",
    "import time\n",
    "\n",
    "class Caractor:\n",
    "\n",
    "    def __init__(self, job):\n",
    "        self.job = job\n",
    "        self.vital = 100\n",
    "        self.defence = 10\n",
    "        self.attack = 15\n",
    "        if self.job == '전사':\n",
    "            self.vital = self.vital + random.randint(5, 10)\n",
    "            self.defence = self.defence + random.randint(5, 10)\n",
    "        elif self.job == '마법사':\n",
    "            self.attack = self.attack + random.randint(7, 15)\n",
    "            self.defence = self.defence - random.randint(1, 5)\n",
    "            \n",
    "class battle:\n",
    "    \n",
    "    def __init__(self, p1, p2):\n",
    "        self.p1 = p1\n",
    "        self.p2 = p2\n",
    "    \n",
    "    def fight(self):\n",
    "\n",
    "        for i in range(30):\n",
    "            time.sleep(2)\n",
    "            print(str(i+1) + '텀 전투결과')\n",
    "            self.p1.vital = self.p1.vital - ((self.p2.attack + random.randint(-2, 2)) - self.p1.defence)\n",
    "            print(self.p1.job + '가 ' + self.p2.job + '의 ' + str(self.p2.attack + random.randint(-1, 1)) + ' 의 공격을 받아 체력이 ' + str(self.p1.vital) + '이 되었습니다.')\n",
    "            self.p2.vital = self.p2.vital - ((self.p1.attack + random.randint(-1, 1)) - self.p2.defence)\n",
    "            print(self.p2.job + '가 ' + self.p1.job + '의 ' + str(self.p1.attack + random.randint(-2, 2)) + ' 의 공격을 받아 체력이 ' + str(self.p2.vital) + '이 되었습니다.')\n",
    "            if self.p1.vital <= 0 or self.p2.vital <= 0:\n",
    "                print('전투종료')\n",
    "                break\n",
    "\n",
    "warrior = Caractor('전사')\n",
    "magician = Caractor('마법사')\n",
    "\n",
    "warrior.vital, warrior.defence, warrior.attack\n",
    "\n",
    "magician.vital, magician.defence, magician.attack\n",
    "\n",
    "battle1 = battle(warrior, magician)\n",
    "\n",
    "battle1.fight()"
   ]
  }
 ],
 "metadata": {
  "kernelspec": {
   "display_name": "Python 3 (ipykernel)",
   "language": "python",
   "name": "python3"
  },
  "language_info": {
   "codemirror_mode": {
    "name": "ipython",
    "version": 3
   },
   "file_extension": ".py",
   "mimetype": "text/x-python",
   "name": "python",
   "nbconvert_exporter": "python",
   "pygments_lexer": "ipython3",
   "version": "3.10.9"
  },
  "toc": {
   "base_numbering": 1,
   "nav_menu": {},
   "number_sections": true,
   "sideBar": true,
   "skip_h1_title": true,
   "title_cell": "Table of Contents",
   "title_sidebar": "Contents",
   "toc_cell": false,
   "toc_position": {
    "height": "calc(100% - 180px)",
    "left": "10px",
    "top": "150px",
    "width": "261.812px"
   },
   "toc_section_display": true,
   "toc_window_display": false
  },
  "varInspector": {
   "cols": {
    "lenName": 16,
    "lenType": 16,
    "lenVar": 40
   },
   "kernels_config": {
    "python": {
     "delete_cmd_postfix": "",
     "delete_cmd_prefix": "del ",
     "library": "var_list.py",
     "varRefreshCmd": "print(var_dic_list())"
    },
    "r": {
     "delete_cmd_postfix": ") ",
     "delete_cmd_prefix": "rm(",
     "library": "var_list.r",
     "varRefreshCmd": "cat(var_dic_list()) "
    }
   },
   "types_to_exclude": [
    "module",
    "function",
    "builtin_function_or_method",
    "instance",
    "_Feature"
   ],
   "window_display": false
  }
 },
 "nbformat": 4,
 "nbformat_minor": 2
}
